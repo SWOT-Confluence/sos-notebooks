{
 "cells": [
  {
   "cell_type": "markdown",
   "metadata": {},
   "source": [
    "# Explore SWOT Sword of Science River Discharge data products"
   ]
  },
  {
   "cell_type": "code",
   "execution_count": 1,
   "metadata": {},
   "outputs": [],
   "source": [
    "import datetime\n",
    "import netCDF4\n",
    "from netCDF4 import  chartostring\n",
    "import pandas as pd\n",
    "import numpy as np\n",
    "import cartopy.crs as ccrs\n",
    "import cartopy.feature as cfeature\n",
    "from cartopy.mpl.gridliner import LONGITUDE_FORMATTER, LATITUDE_FORMATTER\n",
    "import matplotlib.pyplot as plt\n",
    "from pathlib import Path "
   ]
  },
  {
   "cell_type": "markdown",
   "metadata": {},
   "source": [
    "## Granule structure\n",
    "\n",
    "The SWORD of Science (SoS) is a community-driven dataset produced for and from the execution of the Confluence workflow in the cloud which enables quick data access and compute on SWOT data. Data granules contain two files, priors and results. The priors file contains prior information, such as in-situ gage data and model output that is used to generate the discharge products. The results file contains the resulting river discharge data products.\n",
    "\n",
    "The SoS is organized by continent following [SWOT River Database (SWORD)](https://www.swordexplorer.com/) structure and naming conventions. It is indexed on the same reach and node identifier dimensions found in SWORD. Time series data is stored by cycle and pass on an observation dimension.\n",
    "\n",
    "\n",
    "More information is available in the SWOT-Confluence Github repository:\n",
    "* [Documentation for priors](https://github.com/SWOT-Confluence/documentation/blob/main/documentation/confluence_data_description-priors.pdf)\n",
    "* [Documentation for results](https://github.com/SWOT-Confluence/documentation/blob/main/documentation/confluence_data_description-results.pdf)\n",
    "\n",
    "\n",
    "\n",
    "Results are organized into groups corresponding to modules in the SWOT-Confluence processing software. Modules are described in the [Confluence Module Documentation](https://github.com/SWOT-Confluence/documentation/blob/main/documentation/confluence_module_documentation_v1.0.pdf).\n",
    "\n",
    "Start by opening the results SoS NetCDF file and investigating the available groups:"
   ]
  },
  {
   "cell_type": "code",
   "execution_count": 2,
   "metadata": {},
   "outputs": [],
   "source": [
    "# Open the priors file:\n",
    "PP=Path('C:/Users/coss.31/OneDrive - The Ohio State University/Documents/SWOT_Mission_REPOS/sos-notebooks/mnt/input/sos')\n",
    "priors = netCDF4.Dataset(PP.joinpath(\"na_sword_v16_SOS_priors.nc\"), format=\"NETCDF4\")\n",
    "\n",
    "# Open the results file\n",
    "results = netCDF4.Dataset(\"./na_sword_v16_SOS_results.nc\", format=\"NETCDF4\")\n"
   ]
  },
  {
   "cell_type": "code",
   "execution_count": 4,
   "metadata": {},
   "outputs": [
    {
     "data": {
      "text/plain": [
       "array([ 4.56145420e+01,  7.91084288e+01,  7.92677502e+00,  1.95523167e+01,\n",
       "        3.72200558e+01, -1.00000000e+12,  2.40935614e+01,  3.46569227e+01,\n",
       "        3.37415283e+00,  3.16012368e+00,  2.23264650e+00])"
      ]
     },
     "execution_count": 4,
     "metadata": {},
     "output_type": "execute_result"
    }
   ],
   "source": [
    "results['momma']['Q']\n",
    "dx=np.where(results['reaches/reach_id'][:]==74268600051)[0][0]\n",
    "results['momma']['Q'][dx]\n",
    "\n"
   ]
  },
  {
   "cell_type": "code",
   "execution_count": null,
   "metadata": {},
   "outputs": [],
   "source": [
    "chartostring(results['validation/algo_names'][dx])\n"
   ]
  },
  {
   "cell_type": "code",
   "execution_count": null,
   "metadata": {},
   "outputs": [],
   "source": [
    "# Display the priors groups\n",
    "print(\"Priors Groups:\")\n",
    "print(priors.groups)"
   ]
  },
  {
   "cell_type": "code",
   "execution_count": null,
   "metadata": {},
   "outputs": [],
   "source": [
    "# Display the module groups\n",
    "print(\"Results Groups:\")\n",
    "print(results.groups)"
   ]
  },
  {
   "cell_type": "markdown",
   "metadata": {},
   "source": [
    "## Plot river reach locations\n",
    "\n",
    "Information about the spatial location of river reaches is in the reaches and nodes groups including river names. This data is taken directly from [SWOT River Database (SWORD)](https://www.swordexplorer.com/)."
   ]
  },
  {
   "cell_type": "code",
   "execution_count": null,
   "metadata": {},
   "outputs": [],
   "source": [
    "reaches = results.groups['reaches']\n",
    "print(\"Reaches Group\")\n",
    "print(reaches, \"\\n\")\n",
    "print(\"Longitude\")\n",
    "print(reaches.variables['x'])"
   ]
  },
  {
   "cell_type": "code",
   "execution_count": null,
   "metadata": {},
   "outputs": [],
   "source": [
    "# Unpack the spatial coordinates and river names\n",
    "reach_lon = results.groups['reaches'].variables['x']\n",
    "reach_lat = results.groups['reaches'].variables['y']\n",
    "\n",
    "river_names = results.groups['reaches'].variables['river_name']\n",
    "\n",
    "# Filter data to only find the Mississippi River\n",
    "idx = np.where(river_names[:] == 'Ohio River')"
   ]
  },
  {
   "cell_type": "code",
   "execution_count": null,
   "metadata": {},
   "outputs": [],
   "source": [
    "RIDS=results['reaches']['reach_id'][:].filled(np.nan)\n",
    "RL=[74261000041, 74265000021, 74266300131, 74266300071, 74266700101,\n",
    "       74266400031, 74266700051, 74266700141, 74266700201, 74266700171,\n",
    "       74266400071, 74266400161, 74266700261, 74266400251, 74266800021,\n",
    "       74266800071, 74266800031, 74266800131, 74267300111, 74266800151,\n",
    "       74266400511, 74266900041, 74266900131, 74266400451, 74266400451,\n",
    "       74266400451, 74266900081, 74266400671, 74266400591, 74266900151,\n",
    "       74266400711, 74266400711, 74266900301, 74266900211, 74266400751,\n",
    "       74266900491, 74266900511, 74265000121, 74267200031, 74267200121,\n",
    "       74267200171, 74267200281, 74267300181, 74267300191, 74264700381,\n",
    "       74267500041, 74267400131, 74267700141, 74264900071, 74269900761,\n",
    "       74262700531, 74262700551, 74262800311, 74262800351, 74262800371,\n",
    "       74267600061, 74267600091, 74267600101, 74267600121, 74267600221,\n",
    "       74267600201, 74267600151, 74267600241, 74267800251, 74267800341,\n",
    "       74267800201, 74267800051, 74267800151, 74267800141, 74267800091,\n",
    "       74267800121, 74267800071, 74269400291, 74269400181, 74269400201,\n",
    "       74269400041, 74269400331, 74269500051, 74269600111, 74269600101,\n",
    "       74269600061, 74269600051, 74269700031, 74269900551, 74269800211,\n",
    "       74269800111, 74269900431, 74269800051, 74269900071, 74269900191,\n",
    "       74269900331, 74269900131, 74269900231, 74269900481, 74269900351,\n",
    "       74269900271, 74269900811, 74269900521, 74269900701, 74262200241,\n",
    "       74262200201, 74262200031, 74262200091, 74262200131, 74262200161,\n",
    "       74264300091, 74262200271, 74262301081, 74262200321, 74262200361,\n",
    "       74264300121, 74264400101, 74264600021, 74264600291, 74262800181,\n",
    "       74262800281, 74262800251, 74268900281, 74268300081, 74268400011,\n",
    "       74269200061, 74268400041, 74268500061, 74268600011, 74268700061,\n",
    "       74268800021, 74268800051, 74269800381, 74268800131, 74269800481,\n",
    "       74269800391]\n",
    "#momma\n",
    "RL=[74265000121,\n",
    "    74266400251,74266400591,74266700141,74266800021,74266800131,74266800151,74267300181,74267600101,74267600151,74267600201\n",
    ",74267800071\n",
    ",74267800091\n",
    ",74267800121\n",
    ",74267800141\n",
    ",74267800151\n",
    ",74268600011\n",
    ",74268800021\n",
    ",74268900281\n",
    ",74269400331\n",
    ",74269600051\n",
    ",74269800051\n",
    ",74269800381\n",
    ",74269900271\n",
    ",74269900431\n",
    ",74269900701]\n",
    "\n",
    "#hivdi\n",
    "\n",
    "RL=[74261000041,\n",
    "74262200091\n",
    ",74262200131\n",
    ",74262200161\n",
    ",74262200201\n",
    ",74262200271\n",
    ",74262200361\n",
    ",74262301081\n",
    ",74262800281\n",
    ",74262800311\n",
    ",74262800351\n",
    ",74264300091\n",
    ",74264300121\n",
    ",74264600021\n",
    ",74264600291\n",
    ",74264700381\n",
    ",74265000021\n",
    ",74265000121\n",
    ",74266300071\n",
    ",74266300131\n",
    ",74266400031\n",
    ",74266400251\n",
    ",74266400511\n",
    ",74266400591\n",
    ",74266700051\n",
    ",74266700101\n",
    ",74266700141\n",
    ",74266700171\n",
    ",74266700201\n",
    ",74266800031\n",
    ",74266900151\n",
    ",74266900491\n",
    ",74266900511\n",
    ",74267300191\n",
    ",74267400131\n",
    ",74267600061\n",
    ",74269600061]\n",
    "indx=[]\n",
    "for id in RL:\n",
    "    indx.append(np.where(RIDS==id)[0][0])\n"
   ]
  },
  {
   "cell_type": "code",
   "execution_count": null,
   "metadata": {},
   "outputs": [],
   "source": [
    "idx=indx\n",
    "idx"
   ]
  },
  {
   "cell_type": "code",
   "execution_count": null,
   "metadata": {},
   "outputs": [],
   "source": [
    "# Create the figure\n",
    "fig = plt.figure(figsize=(10,10))\n",
    "\n",
    "# Add map elements gridlines\n",
    "ax = plt.axes(projection=ccrs.PlateCarree())\n",
    "ax.coastlines()\n",
    "ax.add_feature(cfeature.STATES, edgecolor='black')\n",
    "\n",
    "gl = ax.gridlines(crs=ccrs.PlateCarree(), linewidth=1, color='black', alpha=0.5, linestyle='--', draw_labels=True)\n",
    "gl.xlabels_top = False\n",
    "gl.ylabels_left = True\n",
    "gl.ylabels_right=False\n",
    "gl.xlines = True\n",
    "\n",
    "gl.xformatter = LONGITUDE_FORMATTER\n",
    "gl.yformatter = LATITUDE_FORMATTER\n",
    "\n",
    "# Plot the river reach centerpoint locations\n",
    "ax.scatter(reach_lon[idx], y=reach_lat[idx], color='c')\n",
    "\n",
    "# Add the title\n",
    "plt.title('Ohio River Reach Centerpoint Locations')"
   ]
  },
  {
   "cell_type": "markdown",
   "metadata": {},
   "source": [
    "# Navigating Reaches and Nodes\n",
    "\n",
    "The SoS is organized by continent following the conventions set in the [SWOT River Database](https://www.swordexplorer.com/) for the NetCDF file format. Reach identifiers can be found in the \"reaches\" group and node identifiers can be found in the \"nodes\" group. The following sections show you how to locate reaches and nodes by river name which allows you to index into the reach and/or node level data.\n",
    "\n",
    "**How to locate reach and node identifiers by river name**\n",
    "\n",
    "You can search for a river name using the same convention as used when plotting river reach locations to obtain the reach identifiers for that river. You can then use the reach identifiers to locate the nodes that belong to each reach for that river as the nodes are indexed on a different dimension (num_nodes) than reaches (num_reaches)."
   ]
  },
  {
   "cell_type": "code",
   "execution_count": null,
   "metadata": {},
   "outputs": [],
   "source": [
    "# Locate the indexes for the specific river you are interested in\n",
    "river_names = results['reaches']['river_name'][:]\n",
    "reach_idx = np.where(river_names[:] == 'Ohio River')\n",
    "\n",
    "# Locate the reach identifiers for the river name\n",
    "reach_identifiers = results['reaches']['reach_id'][reach_idx]\n",
    "\n",
    "# Locate the reach identifiers of interest on the node-level\n",
    "reach_node_identifiers = results['nodes']['reach_id'][:]\n",
    "node_idx = []\n",
    "for reach_identifier in reach_identifiers:\n",
    "    node_idx.extend(np.where(reach_node_identifiers == reach_identifier)[0])\n",
    "\n",
    "# Locate the node identifiers of interest using the reach identifiers to index\n",
    "node_identifiers = results['nodes']['node_id'][:]\n",
    "print(node_identifiers)"
   ]
  },
  {
   "cell_type": "code",
   "execution_count": null,
   "metadata": {},
   "outputs": [],
   "source": [
    "# Unpack the spatial coordinates on the node level and index to values of interest\n",
    "node_lon = results['nodes']['x'][node_idx]\n",
    "node_lat = results['nodes']['y'][node_idx]\n",
    "print(node_lon.shape)\n",
    "print(node_lat.shape)"
   ]
  },
  {
   "cell_type": "code",
   "execution_count": null,
   "metadata": {},
   "outputs": [],
   "source": [
    "# Create the figure\n",
    "fig = plt.figure(figsize=(10,10))\n",
    "\n",
    "# Add map elements gridlines\n",
    "ax = plt.axes(projection=ccrs.PlateCarree())\n",
    "ax.coastlines()\n",
    "ax.add_feature(cfeature.STATES, edgecolor='black')\n",
    "\n",
    "gl = ax.gridlines(crs=ccrs.PlateCarree(), linewidth=1, color='black', alpha=0.5, linestyle='--', draw_labels=True)\n",
    "gl.xlabels_top = False\n",
    "gl.ylabels_left = True\n",
    "gl.ylabels_right=False\n",
    "gl.xlines = True\n",
    "\n",
    "gl.xformatter = LONGITUDE_FORMATTER\n",
    "gl.yformatter = LATITUDE_FORMATTER\n",
    "\n",
    "# Plot the river reach centerpoint locations\n",
    "ax.scatter(x=node_lon, y=node_lat)\n",
    "\n",
    "# Add the title\n",
    "plt.title('Ohio River Node Centerpoint Locations')"
   ]
  },
  {
   "cell_type": "markdown",
   "metadata": {},
   "source": [
    "## Plot Discharge Timeseries\n",
    "\n",
    "The main data of interest in the results files is the timeseries of river discharge (q) estimates produced by each module. The SoS is a global dataset organized by continents and not every reach will have an associated discharge for each module. So it is helpful to filter out missing values in order to isolate and visualize discharge for the various modules.\n",
    "\n",
    "### How to locate data amongst missing values\n",
    "\n",
    "You can use the `missing_value` NetCDF variable attribute to locate the value used to indicate missing data. You can then filter on that value to isolate the time steps with discharge estimates. The following example uses the HiVDI algorithm results to demonstrate filtering missing values and plotting discharge."
   ]
  },
  {
   "cell_type": "code",
   "execution_count": null,
   "metadata": {},
   "outputs": [],
   "source": [
    "# Retrieve discharge from HiVDI group\n",
    "hivdi_q = results['hivdi']['Q'][:]\n",
    "\n",
    "# Save the missing value\n",
    "missing = results['hivdi']['Q'].missing_value\n",
    "\n",
    "# Loop through each reach and filter out places where the missing value is present\n",
    "data_indexes = []\n",
    "for i in range(hivdi_q.shape[0]):\n",
    "    if hivdi_q[i].shape[0] > 1:\n",
    "        if np.any(hivdi_q[i] != missing): data_indexes.append(i) # For multiple time steps with non-missing values\n",
    "    if hivdi_q[i].shape[0] == 1 and hivdi_q[i] != missing: data_indexes.append(i)  # For one time step with non-missing value\n",
    "\n",
    "# Display the numeric indexes where discharge data is present\n",
    "print(data_indexes)"
   ]
  },
  {
   "cell_type": "markdown",
   "metadata": {},
   "source": [
    "You can now use the data indexes to retrieve location, time, and river name data about the reaches that have discharge data."
   ]
  },
  {
   "cell_type": "code",
   "execution_count": null,
   "metadata": {},
   "outputs": [],
   "source": [
    "# Review what river names are present in the data\n",
    "print(\"River Names\")\n",
    "print(river_names[data_indexes])\n",
    "\n",
    "ohio_indexes = np.where(river_names  == \"Ohio River\")\n",
    "print(\"\\nIndexes for the Ohio River\")\n",
    "print(ohio_indexes)\n",
    "\n",
    "# Locate overlap\n",
    "overlap_indexes = np.intersect1d(data_indexes, ohio_indexes)\n",
    "print(\"\\nOverlapping indexes for the Ohio River with HiVDI Discharge data\")\n",
    "print(overlap_indexes)"
   ]
  },
  {
   "cell_type": "code",
   "execution_count": null,
   "metadata": {},
   "outputs": [],
   "source": [
    "overlap_indexes"
   ]
  },
  {
   "cell_type": "code",
   "execution_count": null,
   "metadata": {},
   "outputs": [],
   "source": [
    "# Select the first reach in the Ohio River from the overlapping indexes\n",
    "data_index = overlap_indexes[5]\n",
    "\n",
    "# Locate the reach identifier\n",
    "reach_id = reaches['reach_id'][data_index]\n",
    "print(f\"Ohio reach identifier to plot: {reach_id}\")\n",
    "\n",
    "# Retrieve discharge\n",
    "ohio_q = hivdi_q[data_index]\n",
    "print(f\"\\nDischarge for Ohio reach identfier # {reach_id}\")\n",
    "print(ohio_q)\n",
    "\n",
    "# Retrieve time\n",
    "time = results['reaches']['time'][data_index]\n",
    "print(f\"\\nTime for Ohio reach identfier # {reach_id}\")\n",
    "print(results['reaches']['time'][data_index])"
   ]
  },
  {
   "cell_type": "code",
   "execution_count": null,
   "metadata": {},
   "outputs": [],
   "source": [
    "# Transform time to correct format\n",
    "swot_ts = datetime.datetime(2000,1,1,0,0,0)\n",
    "missing_time = results['reaches']['time'].missing_value\n",
    "ohio_time_str = []\n",
    "for t in time:\n",
    "    if t == missing_time: \n",
    "        skipthis=1\n",
    "        #ohio_time_str.append('NO_DATA')\n",
    "    else:\n",
    "        ohio_time_str.append((swot_ts + datetime.timedelta(seconds=t)).strftime('%Y-%m-%d'))\n",
    "        \n",
    "ohio_time_str"
   ]
  },
  {
   "cell_type": "code",
   "execution_count": null,
   "metadata": {},
   "outputs": [],
   "source": [
    "# Filter any missing values out of reach identifier discharge and time\n",
    "ohio_index = np.where(ohio_q != missing)\n",
    "\n",
    "ohio_q_data = ohio_q[ohio_index]\n",
    "print(f\"Discharge for Ohio reach identfier # {reach_id}\")\n",
    "print(ohio_q_data)\n",
    "\n",
    "ohio_time_data = time[ohio_index]\n",
    "print(f\"\\nTime for Ohio reach identfier # {reach_id}\")\n",
    "print(ohio_time_data)\n"
   ]
  },
  {
   "cell_type": "code",
   "execution_count": null,
   "metadata": {},
   "outputs": [],
   "source": [
    "# Plot HiVDI Discharge for the Platte River Reach Identifier\n",
    "\n",
    "# Set up plot\n",
    "fig = plt.figure(figsize=(10,5))\n",
    "ax1 = plt.subplot(311)\n",
    "\n",
    "# Plot data\n",
    "ax1.scatter(ohio_time_str, ohio_q_data)\n",
    "ax1.plot(ohio_time_str, ohio_q_data)\n",
    "\n",
    "# Define labels and title\n",
    "ax1.set_ylabel('Discharge')\n",
    "ax1.set_xlabel('Time')\n",
    "\n",
    "plt.suptitle(f\"Discharge Timeseries from HIVDI for the Ohio River reach identifier: {reach_id}.\")\n"
   ]
  },
  {
   "cell_type": "code",
   "execution_count": null,
   "metadata": {},
   "outputs": [],
   "source": []
  },
  {
   "cell_type": "markdown",
   "metadata": {},
   "source": [
    "# Plotting integrator results for comparison\n",
    "\n",
    "The SoS contains reach-level Flow Law Parameter (FLPE) algorithms: HiVDI, neoBAM, MetroMan, MOMMA, SAD, SIC4DVar that produce discharge estimates using SWOT observations, SoS Priors and SWORD data. It can be helpful to compare the reach-level FLPEs to the discharge values produced by the Mean Optimization Integrator (MOI). The MOI takes SWOT observation data and reach-level FLPE output and integrates the results. It uses river topology to force mass conservation and also defined uncertainty. "
   ]
  },
  {
   "cell_type": "code",
   "execution_count": null,
   "metadata": {},
   "outputs": [],
   "source": [
    "# Locate MOI discharge results for HiVDI making sure to filter out missing values\n",
    "moi_hivdi_q = results[\"moi\"][\"hivdi\"][\"q\"][data_index]\n",
    "moi_hivdi_q = moi_hivdi_q[ohio_index]\n",
    "\n",
    "print(f\"HiVDI MOI Discharge for Ohio reach identfier # {reach_id}\")\n",
    "print(moi_hivdi_q)"
   ]
  },
  {
   "cell_type": "code",
   "execution_count": null,
   "metadata": {},
   "outputs": [],
   "source": [
    "# Plot HiVDI discharge alongside MOI discharge\n",
    "\n",
    "fig = plt.figure(figsize=(10,5))\n",
    "\n",
    "# HiVDI Q\n",
    "ax1 = plt.subplot(311)\n",
    "ax1.scatter(ohio_time_str, ohio_q_data)\n",
    "ax1.plot(ohio_time_str, ohio_q_data)\n",
    "\n",
    "# MOI Q\n",
    "ax2 = plt.subplot(312)\n",
    "ax2.scatter(ohio_time_str, moi_hivdi_q)\n",
    "ax2.plot(ohio_time_str, moi_hivdi_q)\n",
    "\n",
    "# Define labels and title\n",
    "ax1.set_ylabel('Discharge')\n",
    "ax2.set_xlabel('Time')\n",
    "\n",
    "ax1.set_title(\"HiVDI Discharge\")\n",
    "ax2.set_title(\"MOI Discharge for HiVDI\")\n",
    "\n",
    "plt.suptitle(f\"Discharge Timeseries from HIVDI for the Platte River reach identifier: {reach_id}.\")\n",
    "plt.tight_layout()\n"
   ]
  },
  {
   "cell_type": "markdown",
   "metadata": {},
   "source": [
    "# Table of Modules (Algorithms) and Discharge variables\n",
    "\n",
    "The following lists the algorithms alongside their discharge variables and location in the SoS assuming that the SoS is an open file represented by the `results` variable.\n",
    "\n",
    "| Module (Algorithm)               | Discharge Variable               | Location in the SoS              |\n",
    "|----------------------------------|----------------------------------|----------------------------------|\n",
    "| HiVDI                            | Q                                | results[\"hivdi\"][\"Q\"]            |\n",
    "| MetroMan                         | allq                             | results[\"metroman\"][\"allq\"]      |\n",
    "| MOMMA                            | Q_constrained                    | results[\"momma\"][\"Q_constrained\"]|\n",
    "| neoBAM                           | q1, q2, or q3                    | results[\"neobam\"][\"q\"][\"q1\"]     |\n",
    "| SAD                              | Qa                               | results[\"sad\"][\"Qa\"]             |\n",
    "| SIC4DVar                         | ?                                | results[\"sic4dvar\"][\"?\"]         |\n",
    "| MOI HiVDI                        | q                                | results[\"moi\"][\"hivdi\"][\"q\"]     |\n",
    "| MOI MetroMan                     | q                                | results[\"moi\"][\"metroman\"][\"q\"]  |\n",
    "| MOI MOMMA                        | q                                | results[\"moi\"][\"momma\"][\"q\"]     |\n",
    "| MOI neoBAM                       | q                                | results[\"moi\"][\"qeobam\"][\"q\"]    |\n",
    "| MOI SAD                          | q                                | results[\"moi\"][\"sad\"][\"q\"]       |\n",
    "| MOI SIC4DVar                     | q                                | results[\"moi\"][\"sic4dvar\"][\"q\"]  |"
   ]
  },
  {
   "cell_type": "code",
   "execution_count": null,
   "metadata": {},
   "outputs": [],
   "source": []
  }
 ],
 "metadata": {
  "kernelspec": {
   "display_name": "Python 3",
   "language": "python",
   "name": "python3"
  },
  "language_info": {
   "codemirror_mode": {
    "name": "ipython",
    "version": 3
   },
   "file_extension": ".py",
   "mimetype": "text/x-python",
   "name": "python",
   "nbconvert_exporter": "python",
   "pygments_lexer": "ipython3",
   "version": "3.8.11"
  }
 },
 "nbformat": 4,
 "nbformat_minor": 4
}
