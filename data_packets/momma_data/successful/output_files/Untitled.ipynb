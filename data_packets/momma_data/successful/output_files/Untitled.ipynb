{
 "cells": [
  {
   "cell_type": "code",
   "execution_count": 1,
   "id": "9bc65559-3051-44b8-b3db-5ed931345e04",
   "metadata": {},
   "outputs": [],
   "source": [
    "from netCDF4 import Dataset,chartostring\n",
    "P='C:/Users/coss.31/OneDrive - The Ohio State University/Documents/SWOT_Mission_REPOS/sos-notebooks/data_packets/momma_data/successful/swot_files/74268600051_SWOT.nc'"
   ]
  },
  {
   "cell_type": "code",
   "execution_count": 2,
   "id": "83417845-a6b7-46d0-b71e-21d5a1be06a4",
   "metadata": {},
   "outputs": [
    {
     "data": {
      "text/plain": [
       "11"
      ]
     },
     "execution_count": 2,
     "metadata": {},
     "output_type": "execute_result"
    }
   ],
   "source": [
    "D=Dataset(P)\n",
    "\n",
    "len(chartostring(D['reach/time_str'][:]))"
   ]
  },
  {
   "cell_type": "code",
   "execution_count": 12,
   "id": "bb206175-2f03-4db5-9f20-1faeca26263b",
   "metadata": {},
   "outputs": [
    {
     "data": {
      "text/plain": [
       "masked_array(data=[27.989064, 33.220773, 33.203279, 32.616741, 41.467746,\n",
       "                   --, 29.28553, 24.261798, 20.899002, 18.122104,\n",
       "                   33.536091],\n",
       "             mask=[False, False, False, False, False,  True, False, False,\n",
       "                   False, False, False],\n",
       "       fill_value=-999999999999.0)"
      ]
     },
     "execution_count": 12,
     "metadata": {},
     "output_type": "execute_result"
    }
   ],
   "source": [
    "D['reach/wse'][:]\n",
    "D['reach/width'][:]\n",
    "D['reach/slope'][:]"
   ]
  },
  {
   "cell_type": "code",
   "execution_count": 13,
   "id": "fc0d22c8-7596-4095-befb-d15caa4f6301",
   "metadata": {},
   "outputs": [],
   "source": [
    "P='C:/Users/coss.31/OneDrive - The Ohio State University/Documents/SWOT_Mission_REPOS/sos-notebooks/data_packets/momma_data/successful/output_files/74268600051_momma.nc'"
   ]
  },
  {
   "cell_type": "code",
   "execution_count": 14,
   "id": "ca86247f-5734-4971-a8f6-c0409611db31",
   "metadata": {},
   "outputs": [
    {
     "data": {
      "text/plain": [
       "<class 'netCDF4._netCDF4.Dataset'>\n",
       "root group (NETCDF4 data model, file format HDF5):\n",
       "    valid: 1\n",
       "    reach_id: 74268600051\n",
       "    dimensions(sizes): nt(11)\n",
       "    variables(dimensions): int32 nt(nt), float64 stage(nt), float64 width(nt), float64 slope(nt), float64 Qgage(nt), float64 seg(nt), float64 n(nt), float64 nb(nt), float64 x(nt), float64 Y(nt), float64 v(nt), float64 Q(nt), float64 Q_constrained(nt), float64 gage_constrained(), float64 input_Qm_prior(), float64 input_Qb_prior(), float64 input_Yb_prior(), float64 input_known_ezf(), float64 input_known_bkfl_stage(), float64 input_known_nb_seg1(), float64 input_known_x_seg1(), float64 Qgage_constrained_nb_seg1(), float64 Qgage_constrained_x_seg1(), float64 input_known_nb_seg2(), float64 input_known_x_seg2(), float64 Qgage_constrained_nb_seg2(), float64 Qgage_constrained_x_seg2(), float64 n_bkfl_Qb_prior(), float64 n_bkfl_slope(), float64 vel_bkfl_Qb_prior(), float64 Froude_bkfl_diag_Smean(), float64 width_bkfl_solved_obs(), float64 depth_bkfl_solved_obs(), float64 depth_bkfl_diag_Wb_Smean(), float64 zero_flow_stage(), float64 bankfull_stage(), float64 Qmean_prior(), float64 Qmean_momma(), float64 Qmean_momma.constrained(), float64 width_stage_corr()\n",
       "    groups: "
      ]
     },
     "execution_count": 14,
     "metadata": {},
     "output_type": "execute_result"
    }
   ],
   "source": [
    "D=Dataset(P)\n",
    "D"
   ]
  },
  {
   "cell_type": "code",
   "execution_count": 17,
   "id": "f52c383a-523e-495b-885b-e37d62a67b95",
   "metadata": {},
   "outputs": [
    {
     "data": {
      "text/plain": [
       "masked_array(data=[45.6145420149299, 79.10842884786608,\n",
       "                   7.9267750183931245, 19.552316651088493,\n",
       "                   37.2200557957603, --, 24.093561353606255,\n",
       "                   34.65692268076033, 3.374152825625663,\n",
       "                   3.160123678346897, 2.2326465033740996],\n",
       "             mask=[False, False, False, False, False,  True, False, False,\n",
       "                   False, False, False],\n",
       "       fill_value=-999999999999.0)"
      ]
     },
     "execution_count": 17,
     "metadata": {},
     "output_type": "execute_result"
    }
   ],
   "source": [
    "D['Q'][:]"
   ]
  },
  {
   "cell_type": "code",
   "execution_count": null,
   "id": "e9e899a4-0939-44de-99af-ae412806075b",
   "metadata": {},
   "outputs": [],
   "source": []
  }
 ],
 "metadata": {
  "kernelspec": {
   "display_name": "Python 3",
   "language": "python",
   "name": "python3"
  },
  "language_info": {
   "codemirror_mode": {
    "name": "ipython",
    "version": 3
   },
   "file_extension": ".py",
   "mimetype": "text/x-python",
   "name": "python",
   "nbconvert_exporter": "python",
   "pygments_lexer": "ipython3",
   "version": "3.8.11"
  }
 },
 "nbformat": 4,
 "nbformat_minor": 5
}
