{
 "cells": [
  {
   "cell_type": "markdown",
   "id": "fb4048de-b131-444d-b116-8f0482f86a24",
   "metadata": {},
   "source": [
    "# Visualize SWOT Sword of Science River Discharge data products with Folium [DRAFT]"
   ]
  },
  {
   "cell_type": "code",
   "execution_count": 1,
   "id": "2cfcfffc-9cc8-4504-b765-8a1c1a9dd921",
   "metadata": {},
   "outputs": [],
   "source": [
    "import datetime\n",
    "\n",
    "import branca.colormap as cm\n",
    "import folium\n",
    "import geopandas as gpd\n",
    "import netCDF4\n",
    "import numpy as np\n",
    "import pandas as pd\n",
    "import shapely"
   ]
  },
  {
   "cell_type": "markdown",
   "id": "da6db931-1f15-40fc-9090-01e1164046c3",
   "metadata": {},
   "source": [
    "## Visualizing the data\n",
    "\n",
    "You can visualize the mean discharge for a specific Flow Law Paramter Estimation (FLPE) algorithm for a specific river name.\n",
    "\n",
    "# Table of Modules (Algorithms) and Discharge variables\n",
    "\n",
    "The following lists the algorithms alongside their discharge variables and location in the SoS assuming that the SoS is an open file represented by the `results` variable.\n",
    "\n",
    "| Module (Algorithm)               | Discharge Variable               | Location in the SoS              |\n",
    "|----------------------------------|----------------------------------|----------------------------------|\n",
    "| HiVDI                            | Q                                | results[\"hivdi\"][\"Q\"]            |\n",
    "| MetroMan                         | allq                             | results[\"metroman\"][\"allq\"]      |\n",
    "| MOMMA                            | Q                                | results[\"momma\"][\"Q\"]            |\n",
    "| neoBAM                           | q1, q2, or q3                    | results[\"neobam\"][\"q\"][\"q1\"]     |\n",
    "| SAD                              | Qa                               | results[\"sad\"][\"Qa\"]             |\n",
    "| SIC4DVar                         | Q_mm                             | results[\"sic4dvar\"][\"Q_mm\"]      |\n",
    "| MOI HiVDI                        | q                                | results[\"moi\"][\"hivdi\"][\"q\"]     |\n",
    "| MOI MetroMan                     | q                                | results[\"moi\"][\"metroman\"][\"q\"]  |\n",
    "| MOI MOMMA                        | q                                | results[\"moi\"][\"momma\"][\"q\"]     |\n",
    "| MOI neoBAM                       | q                                | results[\"moi\"][\"qeobam\"][\"q\"]    |\n",
    "| MOI SAD                          | q                                | results[\"moi\"][\"sad\"][\"q\"]       |\n",
    "| MOI SIC4DVar                     | q                                | results[\"moi\"][\"sic4dvar\"][\"q\"]  |"
   ]
  },
  {
   "cell_type": "code",
   "execution_count": 2,
   "id": "90624d7f-36d7-4d75-8b03-e8b8905e1f3f",
   "metadata": {},
   "outputs": [],
   "source": [
    "# Constants\n",
    "\n",
    "# Select a river\n",
    "RIVER_NAME = \"Ohio River\"\n",
    "\n",
    "# Select a discharge algorithm (hivdi, neobam, metroman, momma, sad, sic4dvar)\n",
    "DISCHARGE_ALGORITHM = \"hivdi\"\n",
    "DISCHARGE_VARIABLE = \"Q\""
   ]
  },
  {
   "cell_type": "code",
   "execution_count": 3,
   "id": "372a869e-5c63-4a11-aa98-98091fecd82c",
   "metadata": {},
   "outputs": [],
   "source": [
    "# Open the results file which contains discharge values\n",
    "results = netCDF4.Dataset(\"/path/to/na_sword_v16_SOS_results.nc\", format=\"NETCDF4\")"
   ]
  },
  {
   "cell_type": "code",
   "execution_count": 4,
   "id": "c5ad500c-21fa-4d0a-9558-dcdee5b5cdc4",
   "metadata": {},
   "outputs": [
    {
     "name": "stdout",
     "output_type": "stream",
     "text": [
      "Indexes for locations that have values:\n",
      " [0, 2, 3, 4, 6, 7, 8, 10, 11, 12, 15, 17, 18, 20, 23, 32, 33, 44, 47, 65, 66, 72, 78, 83, 90, 97]\n"
     ]
    }
   ],
   "source": [
    "# Get discharge for a specific river name\n",
    "river_names = results['reaches']['river_name'][:]\n",
    "reach_idx = np.where(river_names[:] == RIVER_NAME)\n",
    "\n",
    "# Filter out missing values\n",
    "discharge = results[DISCHARGE_ALGORITHM][DISCHARGE_VARIABLE][:][reach_idx]\n",
    "missing = results[DISCHARGE_ALGORITHM][DISCHARGE_VARIABLE].missing_value\n",
    "\n",
    "# Loop through each reach and filter out places where the missing value is present\n",
    "data_indexes = []\n",
    "i = 0\n",
    "for d in discharge:\n",
    "    is_missing = np.all(d == missing)\n",
    "    if not is_missing:\n",
    "        data_indexes.append(i)\n",
    "    i += 1\n",
    "print(f\"Indexes for locations that have values:\\n {data_indexes}\")\n",
    "\n",
    "discharge = discharge[data_indexes]    \n",
    "# print(f\"Discharge values:\\n {discharge}\")"
   ]
  },
  {
   "cell_type": "code",
   "execution_count": 5,
   "id": "50af1228-d039-43cb-abaf-b5cf0a620944",
   "metadata": {},
   "outputs": [],
   "source": [
    "# Get the coordinates of the specific river name reach identifiers\n",
    "x = results[\"reaches\"][\"x\"][:][reach_idx][data_indexes]\n",
    "y = results[\"reaches\"][\"y\"][:][reach_idx][data_indexes]"
   ]
  },
  {
   "cell_type": "code",
   "execution_count": 6,
   "id": "a2788c4d-e095-4b50-be02-433b1a351f75",
   "metadata": {},
   "outputs": [],
   "source": [
    "results.close()"
   ]
  },
  {
   "cell_type": "code",
   "execution_count": 7,
   "id": "93d25b00-1d98-425d-b238-02e437985c78",
   "metadata": {},
   "outputs": [
    {
     "name": "stdout",
     "output_type": "stream",
     "text": [
      "Mean discharge:\n",
      " [6292.368494436216, 11629.821333492902, 6016.140519472628, 5934.835287925041, 5968.6940316042055, 9445.687491381777, 2613.4732544782487, 2756.749493185854, 3544.183239303054, 3901.172229662184, 4241.988613309108, 4384.42027456864, 4270.337007732047, 3081.7260264738593, 15561.922897228076, 2450.406759995062, 2811.918509188233, 2695.3232703057643, 2756.7467642950855, 2182.079015920621, 2102.71890444225, 1154.8464735212647, 1955.7366342194973, 2782.5571168647816, 2216.666105239617, 1224.791482748544]\n"
     ]
    }
   ],
   "source": [
    "# Take the mean of the algorithm's river discharge - requires a loop because of ragged arrays\n",
    "mean_discharge = []\n",
    "for d in discharge:\n",
    "    d[d == missing] = np.nan\n",
    "    mean_discharge.append(np.nanmean(d))    # Ignore NaNs\n",
    "print(f\"Mean discharge:\\n {mean_discharge}\")"
   ]
  },
  {
   "cell_type": "code",
   "execution_count": 15,
   "id": "2ce12fc4-19a5-4f5c-897f-aee5f0bbba00",
   "metadata": {},
   "outputs": [],
   "source": [
    "# Visualize mean discharge\n",
    "max_x = np.max(x)\n",
    "max_y = np.max(y)\n",
    "m = folium.Map([max_y, max_x], zoom_start=6, tiles=\"cartodb positron\")\n",
    "\n",
    "# Color map\n",
    "min_d = np.min(mean_discharge)\n",
    "max_d = np.max(mean_discharge)\n",
    "linear = cm.LinearColormap([\"green\", \"yellow\", \"red\"], vmin=min_d, vmax=max_d)\n",
    "\n",
    "# # GeoJSON\n",
    "# folium.GeoJson(geo_df).add_to(m)\n",
    "\n",
    "# Color line\n",
    "color_line = folium.ColorLine(\n",
    "    positions=list(zip(y, x)),\n",
    "    colors=mean_discharge,\n",
    "    colormap=linear,\n",
    "    weight=3,\n",
    ").add_to(m)"
   ]
  },
  {
   "cell_type": "code",
   "execution_count": 16,
   "id": "1ee3cf92-d700-43e3-b833-ceaa2f2eaea4",
   "metadata": {},
   "outputs": [
    {
     "data": {
      "text/html": [
       "<div style=\"width:100%;\"><div style=\"position:relative;width:100%;height:0;padding-bottom:60%;\"><span style=\"color:#565656\">Make this Notebook Trusted to load map: File -> Trust Notebook</span><iframe srcdoc=\"&lt;!DOCTYPE html&gt;\n",
       "&lt;html&gt;\n",
       "&lt;head&gt;\n",
       "    \n",
       "    &lt;meta http-equiv=&quot;content-type&quot; content=&quot;text/html; charset=UTF-8&quot; /&gt;\n",
       "    \n",
       "        &lt;script&gt;\n",
       "            L_NO_TOUCH = false;\n",
       "            L_DISABLE_3D = false;\n",
       "        &lt;/script&gt;\n",
       "    \n",
       "    &lt;style&gt;html, body {width: 100%;height: 100%;margin: 0;padding: 0;}&lt;/style&gt;\n",
       "    &lt;style&gt;#map {position:absolute;top:0;bottom:0;right:0;left:0;}&lt;/style&gt;\n",
       "    &lt;script src=&quot;https://cdn.jsdelivr.net/npm/leaflet@1.9.3/dist/leaflet.js&quot;&gt;&lt;/script&gt;\n",
       "    &lt;script src=&quot;https://code.jquery.com/jquery-3.7.1.min.js&quot;&gt;&lt;/script&gt;\n",
       "    &lt;script src=&quot;https://cdn.jsdelivr.net/npm/bootstrap@5.2.2/dist/js/bootstrap.bundle.min.js&quot;&gt;&lt;/script&gt;\n",
       "    &lt;script src=&quot;https://cdnjs.cloudflare.com/ajax/libs/Leaflet.awesome-markers/2.0.2/leaflet.awesome-markers.js&quot;&gt;&lt;/script&gt;\n",
       "    &lt;link rel=&quot;stylesheet&quot; href=&quot;https://cdn.jsdelivr.net/npm/leaflet@1.9.3/dist/leaflet.css&quot;/&gt;\n",
       "    &lt;link rel=&quot;stylesheet&quot; href=&quot;https://cdn.jsdelivr.net/npm/bootstrap@5.2.2/dist/css/bootstrap.min.css&quot;/&gt;\n",
       "    &lt;link rel=&quot;stylesheet&quot; href=&quot;https://netdna.bootstrapcdn.com/bootstrap/3.0.0/css/bootstrap.min.css&quot;/&gt;\n",
       "    &lt;link rel=&quot;stylesheet&quot; href=&quot;https://cdn.jsdelivr.net/npm/@fortawesome/fontawesome-free@6.2.0/css/all.min.css&quot;/&gt;\n",
       "    &lt;link rel=&quot;stylesheet&quot; href=&quot;https://cdnjs.cloudflare.com/ajax/libs/Leaflet.awesome-markers/2.0.2/leaflet.awesome-markers.css&quot;/&gt;\n",
       "    &lt;link rel=&quot;stylesheet&quot; href=&quot;https://cdn.jsdelivr.net/gh/python-visualization/folium/folium/templates/leaflet.awesome.rotate.min.css&quot;/&gt;\n",
       "    \n",
       "            &lt;meta name=&quot;viewport&quot; content=&quot;width=device-width,\n",
       "                initial-scale=1.0, maximum-scale=1.0, user-scalable=no&quot; /&gt;\n",
       "            &lt;style&gt;\n",
       "                #map_56106f2fb79641a344c583befdbc8014 {\n",
       "                    position: relative;\n",
       "                    width: 100.0%;\n",
       "                    height: 100.0%;\n",
       "                    left: 0.0%;\n",
       "                    top: 0.0%;\n",
       "                }\n",
       "                .leaflet-container { font-size: 1rem; }\n",
       "            &lt;/style&gt;\n",
       "        \n",
       "&lt;/head&gt;\n",
       "&lt;body&gt;\n",
       "    \n",
       "    \n",
       "            &lt;div class=&quot;folium-map&quot; id=&quot;map_56106f2fb79641a344c583befdbc8014&quot; &gt;&lt;/div&gt;\n",
       "        \n",
       "&lt;/body&gt;\n",
       "&lt;script&gt;\n",
       "    \n",
       "    \n",
       "            var map_56106f2fb79641a344c583befdbc8014 = L.map(\n",
       "                &quot;map_56106f2fb79641a344c583befdbc8014&quot;,\n",
       "                {\n",
       "                    center: [39.057043545014785, -82.19108709851001],\n",
       "                    crs: L.CRS.EPSG3857,\n",
       "                    zoom: 6,\n",
       "                    zoomControl: true,\n",
       "                    preferCanvas: false,\n",
       "                }\n",
       "            );\n",
       "\n",
       "            \n",
       "\n",
       "        \n",
       "    \n",
       "            var tile_layer_111fe501b9363b12cb83ec443dd85a39 = L.tileLayer(\n",
       "                &quot;https://{s}.basemaps.cartocdn.com/light_all/{z}/{x}/{y}{r}.png&quot;,\n",
       "                {&quot;attribution&quot;: &quot;\\u0026copy; \\u003ca href=\\&quot;https://www.openstreetmap.org/copyright\\&quot;\\u003eOpenStreetMap\\u003c/a\\u003e contributors \\u0026copy; \\u003ca href=\\&quot;https://carto.com/attributions\\&quot;\\u003eCARTO\\u003c/a\\u003e&quot;, &quot;detectRetina&quot;: false, &quot;maxNativeZoom&quot;: 20, &quot;maxZoom&quot;: 20, &quot;minZoom&quot;: 0, &quot;noWrap&quot;: false, &quot;opacity&quot;: 1, &quot;subdomains&quot;: &quot;abcd&quot;, &quot;tms&quot;: false}\n",
       "            );\n",
       "        \n",
       "    \n",
       "            tile_layer_111fe501b9363b12cb83ec443dd85a39.addTo(map_56106f2fb79641a344c583befdbc8014);\n",
       "        \n",
       "    \n",
       "            var color_line_33ddd2ba366f104f446cc0628eea0b94 = L.featureGroup(\n",
       "                {}\n",
       "            );\n",
       "        \n",
       "    \n",
       "            var poly_line_f202679d1d4674433df69ca7773914b0 = L.polyline(\n",
       "                [[[37.138608813515006, -89.09619777672067], [37.21134369975634, -89.00267393673171]], [[37.208024011263404, -88.88534287374968], [37.151373152155045, -88.74128590473912]], [[37.09933798423958, -88.60635054162084], [37.16259400293822, -88.38355266975552]]],\n",
       "                {&quot;bubblingMouseEvents&quot;: true, &quot;color&quot;: &quot;#badd00ff&quot;, &quot;dashArray&quot;: null, &quot;dashOffset&quot;: null, &quot;fill&quot;: false, &quot;fillColor&quot;: &quot;#badd00ff&quot;, &quot;fillOpacity&quot;: 0.2, &quot;fillRule&quot;: &quot;evenodd&quot;, &quot;lineCap&quot;: &quot;round&quot;, &quot;lineJoin&quot;: &quot;round&quot;, &quot;noClip&quot;: false, &quot;opacity&quot;: null, &quot;smoothFactor&quot;: 1.0, &quot;stroke&quot;: true, &quot;weight&quot;: 3}\n",
       "            ).addTo(color_line_33ddd2ba366f104f446cc0628eea0b94);\n",
       "        \n",
       "    \n",
       "            var poly_line_8fc1017c6d3ae26f1c22fa567eaf8f0b = L.polyline(\n",
       "                [[[37.21134369975634, -89.00267393673171], [37.208024011263404, -88.88534287374968]]],\n",
       "                {&quot;bubblingMouseEvents&quot;: true, &quot;color&quot;: &quot;#ff8b00ff&quot;, &quot;dashArray&quot;: null, &quot;dashOffset&quot;: null, &quot;fill&quot;: false, &quot;fillColor&quot;: &quot;#ff8b00ff&quot;, &quot;fillOpacity&quot;: 0.2, &quot;fillRule&quot;: &quot;evenodd&quot;, &quot;lineCap&quot;: &quot;round&quot;, &quot;lineJoin&quot;: &quot;round&quot;, &quot;noClip&quot;: false, &quot;opacity&quot;: null, &quot;smoothFactor&quot;: 1.0, &quot;stroke&quot;: true, &quot;weight&quot;: 3}\n",
       "            ).addTo(color_line_33ddd2ba366f104f446cc0628eea0b94);\n",
       "        \n",
       "    \n",
       "            var poly_line_d815de2a8bd8b143c45fca63596a9ebc = L.polyline(\n",
       "                [[[37.151373152155045, -88.74128590473912], [37.09933798423958, -88.60635054162084]]],\n",
       "                {&quot;bubblingMouseEvents&quot;: true, &quot;color&quot;: &quot;#8bc600ff&quot;, &quot;dashArray&quot;: null, &quot;dashOffset&quot;: null, &quot;fill&quot;: false, &quot;fillColor&quot;: &quot;#8bc600ff&quot;, &quot;fillOpacity&quot;: 0.2, &quot;fillRule&quot;: &quot;evenodd&quot;, &quot;lineCap&quot;: &quot;round&quot;, &quot;lineJoin&quot;: &quot;round&quot;, &quot;noClip&quot;: false, &quot;opacity&quot;: null, &quot;smoothFactor&quot;: 1.0, &quot;stroke&quot;: true, &quot;weight&quot;: 3}\n",
       "            ).addTo(color_line_33ddd2ba366f104f446cc0628eea0b94);\n",
       "        \n",
       "    \n",
       "            var poly_line_af9f4dc8e2188f713bb567468f65f013 = L.polyline(\n",
       "                [[[37.16259400293822, -88.38355266975552], [37.15429502017314, -88.42074071988952]]],\n",
       "                {&quot;bubblingMouseEvents&quot;: true, &quot;color&quot;: &quot;#ffe800ff&quot;, &quot;dashArray&quot;: null, &quot;dashOffset&quot;: null, &quot;fill&quot;: false, &quot;fillColor&quot;: &quot;#ffe800ff&quot;, &quot;fillOpacity&quot;: 0.2, &quot;fillRule&quot;: &quot;evenodd&quot;, &quot;lineCap&quot;: &quot;round&quot;, &quot;lineJoin&quot;: &quot;round&quot;, &quot;noClip&quot;: false, &quot;opacity&quot;: null, &quot;smoothFactor&quot;: 1.0, &quot;stroke&quot;: true, &quot;weight&quot;: 3}\n",
       "            ).addTo(color_line_33ddd2ba366f104f446cc0628eea0b94);\n",
       "        \n",
       "    \n",
       "            var poly_line_22182eb58e2b4de398d88364dcf3f66d = L.polyline(\n",
       "                [[[37.15429502017314, -88.42074071988952], [37.20082190223811, -88.44613467879884]], [[37.20082190223811, -88.44613467879884], [37.26498376781117, -88.50013002435641]], [[37.26498376781117, -88.50013002435641], [37.33211316218755, -88.48869012787407]], [[37.784937791066255, -87.94744000811342], [37.882004242777406, -87.77959772951014]], [[37.906943205725504, -87.01816679656142], [37.93497503513569, -86.93573529967067]], [[37.93497503513569, -86.93573529967067], [38.30455888100557, -85.67970531465066]], [[38.30455888100557, -85.67970531465066], [38.50765367391664, -85.4548415954417]], [[38.50765367391664, -85.4548415954417], [38.70650049573866, -85.128118676858]], [[38.85521362448091, -84.23041365514865], [38.69910900862884, -82.87180903655629]]],\n",
       "                {&quot;bubblingMouseEvents&quot;: true, &quot;color&quot;: &quot;#2e9700ff&quot;, &quot;dashArray&quot;: null, &quot;dashOffset&quot;: null, &quot;fill&quot;: false, &quot;fillColor&quot;: &quot;#2e9700ff&quot;, &quot;fillOpacity&quot;: 0.2, &quot;fillRule&quot;: &quot;evenodd&quot;, &quot;lineCap&quot;: &quot;round&quot;, &quot;lineJoin&quot;: &quot;round&quot;, &quot;noClip&quot;: false, &quot;opacity&quot;: null, &quot;smoothFactor&quot;: 1.0, &quot;stroke&quot;: true, &quot;weight&quot;: 3}\n",
       "            ).addTo(color_line_33ddd2ba366f104f446cc0628eea0b94);\n",
       "        \n",
       "    \n",
       "            var poly_line_f9bf0819be838807d1082d2a1d02312b = L.polyline(\n",
       "                [[[37.33211316218755, -88.48869012787407], [37.475977233889715, -88.10022332261096]], [[37.475977233889715, -88.10022332261096], [37.624431311699226, -88.14716832768526]], [[37.624431311699226, -88.14716832768526], [37.726782657272885, -88.08234089475876]], [[37.726782657272885, -88.08234089475876], [37.784937791066255, -87.94744000811342]]],\n",
       "                {&quot;bubblingMouseEvents&quot;: true, &quot;color&quot;: &quot;#5dae00ff&quot;, &quot;dashArray&quot;: null, &quot;dashOffset&quot;: null, &quot;fill&quot;: false, &quot;fillColor&quot;: &quot;#5dae00ff&quot;, &quot;fillOpacity&quot;: 0.2, &quot;fillRule&quot;: &quot;evenodd&quot;, &quot;lineCap&quot;: &quot;round&quot;, &quot;lineJoin&quot;: &quot;round&quot;, &quot;noClip&quot;: false, &quot;opacity&quot;: null, &quot;smoothFactor&quot;: 1.0, &quot;stroke&quot;: true, &quot;weight&quot;: 3}\n",
       "            ).addTo(color_line_33ddd2ba366f104f446cc0628eea0b94);\n",
       "        \n",
       "    \n",
       "            var poly_line_a168441b68eef6efbaa254f59a0853ef = L.polyline(\n",
       "                [[[37.882004242777406, -87.77959772951014], [37.906943205725504, -87.01816679656142]]],\n",
       "                {&quot;bubblingMouseEvents&quot;: true, &quot;color&quot;: &quot;#ff0000ff&quot;, &quot;dashArray&quot;: null, &quot;dashOffset&quot;: null, &quot;fill&quot;: false, &quot;fillColor&quot;: &quot;#ff0000ff&quot;, &quot;fillOpacity&quot;: 0.2, &quot;fillRule&quot;: &quot;evenodd&quot;, &quot;lineCap&quot;: &quot;round&quot;, &quot;lineJoin&quot;: &quot;round&quot;, &quot;noClip&quot;: false, &quot;opacity&quot;: null, &quot;smoothFactor&quot;: 1.0, &quot;stroke&quot;: true, &quot;weight&quot;: 3}\n",
       "            ).addTo(color_line_33ddd2ba366f104f446cc0628eea0b94);\n",
       "        \n",
       "    \n",
       "            var poly_line_8464f3d8be8d8bd5b09240059c741de0 = L.polyline(\n",
       "                [[[38.70650049573866, -85.128118676858], [38.76012216536642, -85.01989648208489]], [[38.76012216536642, -85.01989648208489], [39.057043545014785, -84.86328770605033]], [[39.057043545014785, -84.86328770605033], [38.737004525516454, -83.85057415826604]], [[38.737004525516454, -83.85057415826604], [38.85521362448091, -84.23041365514865]], [[38.69910900862884, -82.87180903655629], [38.72873734091239, -82.19108709851001]]],\n",
       "                {&quot;bubblingMouseEvents&quot;: true, &quot;color&quot;: &quot;#008000ff&quot;, &quot;dashArray&quot;: null, &quot;dashOffset&quot;: null, &quot;fill&quot;: false, &quot;fillColor&quot;: &quot;#008000ff&quot;, &quot;fillOpacity&quot;: 0.2, &quot;fillRule&quot;: &quot;evenodd&quot;, &quot;lineCap&quot;: &quot;round&quot;, &quot;lineJoin&quot;: &quot;round&quot;, &quot;noClip&quot;: false, &quot;opacity&quot;: null, &quot;smoothFactor&quot;: 1.0, &quot;stroke&quot;: true, &quot;weight&quot;: 3}\n",
       "            ).addTo(color_line_33ddd2ba366f104f446cc0628eea0b94);\n",
       "        \n",
       "    \n",
       "            color_line_33ddd2ba366f104f446cc0628eea0b94.addTo(map_56106f2fb79641a344c583befdbc8014);\n",
       "        \n",
       "&lt;/script&gt;\n",
       "&lt;/html&gt;\" style=\"position:absolute;width:100%;height:100%;left:0;top:0;border:none !important;\" allowfullscreen webkitallowfullscreen mozallowfullscreen></iframe></div></div>"
      ],
      "text/plain": [
       "<folium.folium.Map at 0x137acdc10>"
      ]
     },
     "execution_count": 16,
     "metadata": {},
     "output_type": "execute_result"
    }
   ],
   "source": [
    "m"
   ]
  }
 ],
 "metadata": {
  "kernelspec": {
   "display_name": "Python 3 (ipykernel)",
   "language": "python",
   "name": "python3"
  },
  "language_info": {
   "codemirror_mode": {
    "name": "ipython",
    "version": 3
   },
   "file_extension": ".py",
   "mimetype": "text/x-python",
   "name": "python",
   "nbconvert_exporter": "python",
   "pygments_lexer": "ipython3",
   "version": "3.12.3"
  }
 },
 "nbformat": 4,
 "nbformat_minor": 5
}
