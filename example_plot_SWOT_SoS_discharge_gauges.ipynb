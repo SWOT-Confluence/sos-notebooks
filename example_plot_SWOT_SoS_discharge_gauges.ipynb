{
 "cells": [
  {
   "cell_type": "markdown",
   "metadata": {},
   "source": [
    "# Plot SWOT SWORD of Science River Dischage with Gauge Data"
   ]
  },
  {
   "cell_type": "code",
   "execution_count": 1,
   "metadata": {},
   "outputs": [],
   "source": [
    "import netCDF4\n",
    "import pandas as pd\n",
    "import numpy as np\n",
    "import cartopy.crs as ccrs\n",
    "import cartopy.feature as cfeature\n",
    "from cartopy.mpl.gridliner import LONGITUDE_FORMATTER, LATITUDE_FORMATTER\n",
    "import matplotlib.pyplot as plt\n",
    "import datetime\n",
    "from pathlib import Path"
   ]
  },
  {
   "cell_type": "markdown",
   "metadata": {},
   "source": [
    "## Looking at discharge in the SoS\n",
    "\n",
    "It can be helpful to plot the flow law parameter estimation (FLPE) algorithm discharge alongside the integrator (MOI) discharge produced for that algorithm PLUS overlapping in situ gauge data. Note that not all rivers have gauge data associated with them. In this notebook we will look at the steps to plot SoS discharge values produced from running the Confluence workflow alongside in situ gauge data gathered and stored in the priors.\n",
    "\n",
    "## Granule structure (background)\n",
    "\n",
    "The SWORD of Science (SoS) is a community-driven dataset produced for and from the execution of the Confluence workflow in the cloud which enables quick data access and compute on SWOT data. Data granules contain two files, priors and results. The priors file contains prior information, such as in-situ gage data and model output that is used to generate the discharge products. The results file contains the resulting river discharge data products.\n",
    "\n",
    "The SoS is organized by continent following [SWOT River Database (SWORD)](https://www.swordexplorer.com/) structure and naming conventions. It is indexed on the same reach and node identifier dimensions found in SWORD. Time series data is stored by cycle and pass on an observation dimension.\n",
    "\n",
    "\n",
    "More information is available in the SWOT-Confluence Github repository:\n",
    "* [Documentation for priors](https://github.com/SWOT-Confluence/documentation/blob/main/documentation/confluence_data_description-priors.pdf)\n",
    "* [Documentation for results](https://github.com/SWOT-Confluence/documentation/blob/main/documentation/confluence_data_description-results.pdf)\n",
    "\n",
    "\n",
    "\n",
    "Results are organized into groups corresponding to modules in the SWOT-Confluence processing software. Modules are described in the [Confluence Module Documentation](https://github.com/SWOT-Confluence/documentation/blob/main/documentation/confluence_module_documentation_v1.0.pdf).\n",
    "\n",
    "You can explore the SoS further in this notebook: Link TBD.\n",
    "\n",
    "## Locate data for a river that has gauges\n",
    "\n",
    "We will select the Rhine as we know it has gauge data associated with it. We first need to get the indexes of reaches in the Rhine."
   ]
  },
  {
   "cell_type": "code",
   "execution_count": 2,
   "metadata": {},
   "outputs": [],
   "source": [
    "# # Open the priors file:\n",
    "# priors = netCDF4.Dataset(\"/path/to/sos/priors/file.nc\", format=\"NETCDF4\")\n",
    "\n",
    "# # Open the results file\n",
    "# results = netCDF4.Dataset(\"/path/to/sos/results/file.nc\", format=\"NETCDF4\")\n",
    "\n",
    "# # Locate overlapping reach identifier\n",
    "# river_names = results['reaches']['river_name'][:]\n",
    "# rhine_indexes = np.where(river_names  == \"Rhine\")\n",
    "\n",
    "# rhine_reach = results[\"reaches\"][\"reach_id\"][rhine_indexes]\n",
    "# print(\"Rhine reach identifiers:\")\n",
    "# print(rhine_reach)\n",
    "\n",
    "# gauge_reach = priors[\"EAU\"][\"EAU_reach_id\"][:]\n",
    "# print(\"Gauge reach identifiers:\")\n",
    "# print(gauge_reach)\n",
    "\n",
    "# reach_overlap = np.intersect1d(gauge_reach, rhine_reach)\n",
    "# print(\"Overlapping reaches:\")\n",
    "# print(reach_overlap)\n",
    "\n",
    "# # Select the first reach\n",
    "# reach_id = reach_overlap[0]\n",
    "# print(f\"Reach id selected: {reach_id}\")"
   ]
  },
  {
   "cell_type": "code",
   "execution_count": 5,
   "metadata": {},
   "outputs": [
    {
     "name": "stdout",
     "output_type": "stream",
     "text": [
      "Rhine reach identifiers:\n",
      "[74261000041 74262200091 74262200131 74262200161 74262200201 74262200271\n",
      " 74262200361 74262301081 74262800281 74262800311 74262800351 74264300091\n",
      " 74264300121 74264600021 74264600291 74264700381 74265000021 74265000121\n",
      " 74266300071 74266300131 74266400031 74266400251 74266400511 74266400591\n",
      " 74266700051 74266700101 74266700141 74266700171 74266700201 74266800031\n",
      " 74266900151 74266900491 74266900511 74267300191 74267400131 74267600061\n",
      " 74269600061]\n",
      "Gauge reach identifiers:\n",
      "[73282400081 73282100081 73282300331 ... 74298200361 74294900381\n",
      " 74294700251]\n",
      "Overlapping reaches:\n",
      "[74261000041 74262200091 74262200131 74262200161 74262200201 74262200271\n",
      " 74262200361 74262301081 74262800281 74262800311 74262800351 74264300091\n",
      " 74264300121 74264600021 74264600291 74264700381 74265000021 74265000121\n",
      " 74266300071 74266300131 74266400031 74266400251 74266400511 74266400591\n",
      " 74266700051 74266700101 74266700141 74266700171 74266700201 74266800031\n",
      " 74266900151 74266900491 74266900511 74267300191 74267400131 74267600061\n",
      " 74269600061]\n",
      "Reach id selected: 74266400031\n"
     ]
    }
   ],
   "source": [
    "\n",
    "#Open the priors file:\n",
    "PP=Path('C:/Users/coss.31/OneDrive - The Ohio State University/Documents/SWOT_Mission_REPOS/sos-notebooks/mnt/input/sos')\n",
    "priors = netCDF4.Dataset(PP.joinpath(\"na_sword_v16_SOS_priors.nc\"), format=\"NETCDF4\")\n",
    "\n",
    "# Open the results file\n",
    "results = netCDF4.Dataset(\"./na_sword_v16_SOS_results.nc\", format=\"NETCDF4\")\n",
    "\n",
    "# # Locate overlapping reach identifier\n",
    "# river_names = results['reaches']['river_name'][:]\n",
    "# rhine_indexes = np.where(river_names  == \"Ohio\")\n",
    "RIDS=results['reaches']['reach_id'][:].filled(np.nan)\n",
    "RL=[74261000041, 74265000021, 74266300131, 74266300071, 74266700101,\n",
    "       74266400031, 74266700051, 74266700141, 74266700201, 74266700171,\n",
    "       74266400071, 74266400161, 74266700261, 74266400251, 74266800021,\n",
    "       74266800071, 74266800031, 74266800131, 74267300111, 74266800151,\n",
    "       74266400511, 74266900041, 74266900131, 74266400451, 74266400451,\n",
    "       74266400451, 74266900081, 74266400671, 74266400591, 74266900151,\n",
    "       74266400711, 74266400711, 74266900301, 74266900211, 74266400751,\n",
    "       74266900491, 74266900511, 74265000121, 74267200031, 74267200121,\n",
    "       74267200171, 74267200281, 74267300181, 74267300191, 74264700381,\n",
    "       74267500041, 74267400131, 74267700141, 74264900071, 74269900761,\n",
    "       74262700531, 74262700551, 74262800311, 74262800351, 74262800371,\n",
    "       74267600061, 74267600091, 74267600101, 74267600121, 74267600221,\n",
    "       74267600201, 74267600151, 74267600241, 74267800251, 74267800341,\n",
    "       74267800201, 74267800051, 74267800151, 74267800141, 74267800091,\n",
    "       74267800121, 74267800071, 74269400291, 74269400181, 74269400201,\n",
    "       74269400041, 74269400331, 74269500051, 74269600111, 74269600101,\n",
    "       74269600061, 74269600051, 74269700031, 74269900551, 74269800211,\n",
    "       74269800111, 74269900431, 74269800051, 74269900071, 74269900191,\n",
    "       74269900331, 74269900131, 74269900231, 74269900481, 74269900351,\n",
    "       74269900271, 74269900811, 74269900521, 74269900701, 74262200241,\n",
    "       74262200201, 74262200031, 74262200091, 74262200131, 74262200161,\n",
    "       74264300091, 74262200271, 74262301081, 74262200321, 74262200361,\n",
    "       74264300121, 74264400101, 74264600021, 74264600291, 74262800181,\n",
    "       74262800281, 74262800251, 74268900281, 74268300081, 74268400011,\n",
    "       74269200061, 74268400041, 74268500061, 74268600011, 74268700061,\n",
    "       74268800021, 74268800051, 74269800381, 74268800131, 74269800481,\n",
    "       74269800391]\n",
    "#momma\n",
    "RL=[74265000121,\n",
    "    74266400251,74266400591,74266700141,74266800021,74266800131,74266800151,74267300181,74267600101,74267600151,74267600201\n",
    ",74267800071\n",
    ",74267800091\n",
    ",74267800121\n",
    ",74267800141\n",
    ",74267800151\n",
    ",74268600011\n",
    ",74268800021\n",
    ",74268900281\n",
    ",74269400331\n",
    ",74269600051\n",
    ",74269800051\n",
    ",74269800381\n",
    ",74269900271\n",
    ",74269900431\n",
    ",74269900701]\n",
    "\n",
    "#hivdi\n",
    "\n",
    "RL=[74261000041,\n",
    "74262200091\n",
    ",74262200131\n",
    ",74262200161\n",
    ",74262200201\n",
    ",74262200271\n",
    ",74262200361\n",
    ",74262301081\n",
    ",74262800281\n",
    ",74262800311\n",
    ",74262800351\n",
    ",74264300091\n",
    ",74264300121\n",
    ",74264600021\n",
    ",74264600291\n",
    ",74264700381\n",
    ",74265000021\n",
    ",74265000121\n",
    ",74266300071\n",
    ",74266300131\n",
    ",74266400031\n",
    ",74266400251\n",
    ",74266400511\n",
    ",74266400591\n",
    ",74266700051\n",
    ",74266700101\n",
    ",74266700141\n",
    ",74266700171\n",
    ",74266700201\n",
    ",74266800031\n",
    ",74266900151\n",
    ",74266900491\n",
    ",74266900511\n",
    ",74267300191\n",
    ",74267400131\n",
    ",74267600061\n",
    ",74269600061]\n",
    "indx=[]\n",
    "for id in RL:\n",
    "    indx.append(np.where(RIDS==id)[0][0])\n",
    "rhine_indexes=indx\n",
    "rhine_reach = results[\"reaches\"][\"reach_id\"][rhine_indexes]\n",
    "print(\"Rhine reach identifiers:\")\n",
    "print(rhine_reach)\n",
    "\n",
    "gauge_reach = priors[\"USGS\"][\"USGS_reach_id\"][:]\n",
    "print(\"Gauge reach identifiers:\")\n",
    "print(gauge_reach)\n",
    "\n",
    "reach_overlap = np.intersect1d(gauge_reach, rhine_reach)\n",
    "print(\"Overlapping reaches:\")\n",
    "print(reach_overlap)\n",
    "# # Select the first reach\n",
    "reach_id = reach_overlap[20]\n",
    "print(f\"Reach id selected: {reach_id}\")\n",
    "\n",
    "\n"
   ]
  },
  {
   "cell_type": "markdown",
   "metadata": {},
   "source": [
    "## Locate gauge discharge and in situ observation time\n",
    "\n",
    "Locate discharge and save the in situ observation time for the reach of interest."
   ]
  },
  {
   "cell_type": "code",
   "execution_count": 6,
   "metadata": {},
   "outputs": [
    {
     "name": "stdout",
     "output_type": "stream",
     "text": [
      "Number of gauge discharge values: 4955.\n",
      "Number of gauge time values: 4955.\n"
     ]
    }
   ],
   "source": [
    "# Get reach index for gauge data\n",
    "reach_gauge_index = np.where(gauge_reach == reach_id)\n",
    "\n",
    "# Get discharge and filter out missing values\n",
    "missing = priors[\"USGS\"][\"USGS_q\"]._FillValue\n",
    "gauge_discharge = priors[\"USGS\"][\"USGS_q\"][reach_gauge_index].filled()[0]\n",
    "nonmissing_indexes_g = np.where(gauge_discharge != missing)\n",
    "gauge_discharge = gauge_discharge[nonmissing_indexes_g]\n",
    "print(f\"Number of gauge discharge values: {len(gauge_discharge)}.\")\n",
    "\n",
    "# Get time and filter out missing values\n",
    "gauge_time = priors[\"USGS\"][\"USGS_qt\"][reach_gauge_index].filled().astype(np.int64)[0]\n",
    "gauge_time = gauge_time[nonmissing_indexes_g]\n",
    "print(f\"Number of gauge time values: {len(gauge_time)}.\")\n",
    "\n",
    "# Convert time from ordinal value\n",
    "gauge_time = [ datetime.datetime.fromordinal(gt).strftime(\"%Y%m%d\") for gt in gauge_time ]"
   ]
  },
  {
   "cell_type": "markdown",
   "metadata": {},
   "source": [
    "## Locate algorithm discharge\n",
    "\n",
    "Locate the algorithm discharge for a corresponding reach identifier that has gauge data. We will use HiVDI for this demonstration."
   ]
  },
  {
   "cell_type": "code",
   "execution_count": 7,
   "metadata": {},
   "outputs": [
    {
     "name": "stdout",
     "output_type": "stream",
     "text": [
      "Number of HivDI discharge values: 4.\n",
      "Number of HivDI time values: 4.\n"
     ]
    }
   ],
   "source": [
    "# Locate the reach identifier and associated HiVDI discharge time series\n",
    "reach_q_index = np.where(results['reaches']['reach_id'][:] == reach_id)\n",
    "hivdi_discharge = results['hivdi']['Q'][reach_q_index][0]\n",
    "\n",
    "# Filter out missing values\n",
    "missing = results['hivdi']['Q'].missing_value\n",
    "nonmissing_indexes_h = np.where(hivdi_discharge != missing)\n",
    "hivdi_discharge = hivdi_discharge[nonmissing_indexes_h]\n",
    "print(f\"Number of HivDI discharge values: {len(hivdi_discharge)}.\")\n",
    "\n",
    "# Retrieve SWOT observation times and filter out missing values\n",
    "hivdi_time = results['reaches']['time'][reach_q_index][0]\n",
    "hivdi_time = hivdi_time[nonmissing_indexes_h]\n",
    "\n",
    "# Convert to HiVDI time to same format as gauge agency time\n",
    "swot_ts = datetime.datetime(2000,1,1,0,0,0)   # SWOT timestamp delta\n",
    "hivdi_time = [ (swot_ts + datetime.timedelta(seconds=st)).strftime(\"%Y%m%d\") for st in hivdi_time ]\n",
    "print(f\"Number of HivDI time values: {len(hivdi_time)}.\")"
   ]
  },
  {
   "cell_type": "markdown",
   "metadata": {},
   "source": [
    "## Locate integrator (MOI) discharge\n",
    "\n",
    "Locate the integrator discharge produced for the algorithm for the reach of interest that has gauge data. As mentioned, we will use HiVDI for this demonstration. "
   ]
  },
  {
   "cell_type": "code",
   "execution_count": 8,
   "metadata": {},
   "outputs": [
    {
     "name": "stdout",
     "output_type": "stream",
     "text": [
      "Number of integrator HivDI discharge values: 4.\n"
     ]
    }
   ],
   "source": [
    "# Locate MOI discharge results for HiVDI making sure to filter out missing values\n",
    "moi_hivdi_q = results[\"moi\"][\"hivdi\"][\"q\"][reach_q_index][0]\n",
    "moi_hivdi_q = moi_hivdi_q[nonmissing_indexes_h]\n",
    "print(f\"Number of integrator HivDI discharge values: {len(moi_hivdi_q)}.\")"
   ]
  },
  {
   "cell_type": "markdown",
   "metadata": {},
   "source": [
    "## Locate overlapping observations\n",
    "\n",
    "We will need to locate the discharge time series (FLPE and MOI) for the Rhine reach of interest and then determine if there are overlapping in situ observations with SWOT observations."
   ]
  },
  {
   "cell_type": "code",
   "execution_count": 9,
   "metadata": {},
   "outputs": [
    {
     "name": "stdout",
     "output_type": "stream",
     "text": [
      "Days of observation overlap:\n",
      "['20240131', '20240201', '20240403']\n",
      "Gauge time:\n",
      " ['20240131' '20240201' '20240403']\n",
      "Gauge discharge:\n",
      " [824.01888 801.36544 339.8016 ]\n",
      "HiVDI time:\n",
      " ['20240131' '20240201' '20240403' '20240403']\n",
      "HiVDI discharge:\n",
      " [2529.0932437  1286.31645297  422.40897853  464.85649168]\n",
      "MOI discharge:\n",
      " [ 3.45394243e+02 -1.00000000e+12  3.45394243e+02  5.65467229e+02]\n"
     ]
    }
   ],
   "source": [
    "# Find overlapping time between in situ and SWOT observations\n",
    "obs_overlap = list(set(hivdi_time).intersection(set(gauge_time)))\n",
    "obs_overlap.sort()\n",
    "print(\"Days of observation overlap:\")\n",
    "print(obs_overlap)\n",
    "\n",
    "# Get indexes of overlap for gauge, algorithm and integrator\n",
    "gauge_overlap_index = np.where(np.in1d(gauge_time, obs_overlap))[0]\n",
    "hivdi_overlap_index = np.where(np.in1d(hivdi_time, obs_overlap))[0]\n",
    "\n",
    "# Retrieve time and discharge values for indexes\n",
    "gauge_time = np.array(gauge_time)[gauge_overlap_index]\n",
    "gauge_discharge = np.array(gauge_discharge)[gauge_overlap_index]\n",
    "print(\"Gauge time:\\n\", gauge_time)\n",
    "print(\"Gauge discharge:\\n\", gauge_discharge)\n",
    "\n",
    "hivdi_time = np.array(hivdi_time)[hivdi_overlap_index]\n",
    "hivdi_discharge = np.array(hivdi_discharge)[hivdi_overlap_index]\n",
    "print(\"HiVDI time:\\n\", hivdi_time)\n",
    "print(\"HiVDI discharge:\\n\", hivdi_discharge)\n",
    "\n",
    "moi_hivdi_q = np.array(moi_hivdi_q)[hivdi_overlap_index]\n",
    "print(\"MOI discharge:\\n\", moi_hivdi_q)"
   ]
  },
  {
   "cell_type": "markdown",
   "metadata": {},
   "source": [
    "# Plotting results for comparison\n",
    "\n",
    "Let's plot all discharge time series to better visualize the differences and compare the FLPE, MOI, and gauge discharge values. "
   ]
  },
  {
   "cell_type": "code",
   "execution_count": 10,
   "metadata": {},
   "outputs": [
    {
     "data": {
      "image/png": "[encoded data removed]",
      "text/plain": [
       "<Figure size 1000x500 with 3 Axes>"
      ]
     },
     "metadata": {},
     "output_type": "display_data"
    }
   ],
   "source": [
    "# Plot HiVDI discharge alongside MOI discharge\n",
    "\n",
    "fig = plt.figure(figsize=(10,5))\n",
    "\n",
    "# HiVDI Q\n",
    "ax1 = plt.subplot(311)\n",
    "ax1.scatter(hivdi_time, hivdi_discharge)\n",
    "ax1.plot(hivdi_time, hivdi_discharge)\n",
    "\n",
    "# MOI Q\n",
    "ax2 = plt.subplot(312)\n",
    "ax2.scatter(hivdi_time, moi_hivdi_q)\n",
    "ax2.plot(hivdi_time, moi_hivdi_q)\n",
    "\n",
    "# Gauge Q\n",
    "ax3 = plt.subplot(313)\n",
    "ax3.scatter(gauge_time, gauge_discharge)\n",
    "ax3.plot(gauge_time, gauge_discharge)\n",
    "\n",
    "# Define labels and title\n",
    "ax2.set_ylabel('Discharge')\n",
    "ax3.set_xlabel('Time')\n",
    "\n",
    "ax1.set_title(\"HiVDI Discharge\")\n",
    "ax2.set_title(\"MOI Discharge for HiVDI\")\n",
    "ax3.set_title(\"Gauge Discharge\")\n",
    "\n",
    "plt.suptitle(f\"Discharge Timeseries from HIVDI for the Rhine reach identifier: {reach_id}.\")\n",
    "plt.tight_layout()\n"
   ]
  },
  {
   "cell_type": "code",
   "execution_count": null,
   "metadata": {},
   "outputs": [],
   "source": []
  },
  {
   "cell_type": "code",
   "execution_count": null,
   "metadata": {},
   "outputs": [],
   "source": []
  }
 ],
 "metadata": {
  "kernelspec": {
   "display_name": "Python 3 (ipykernel)",
   "language": "python",
   "name": "python3"
  },
  "language_info": {
   "codemirror_mode": {
    "name": "ipython",
    "version": 3
   },
   "file_extension": ".py",
   "mimetype": "text/x-python",
   "name": "python",
   "nbconvert_exporter": "python",
   "pygments_lexer": "ipython3",
   "version": "3.10.14"
  }
 },
 "nbformat": 4,
 "nbformat_minor": 4
}
