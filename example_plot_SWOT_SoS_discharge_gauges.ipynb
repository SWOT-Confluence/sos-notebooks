{
 "cells": [
  {
   "cell_type": "markdown",
   "metadata": {},
   "source": [
    "# Plot SWOT SWORD of Science River Dischage with Gauge Data"
   ]
  },
  {
   "cell_type": "code",
   "execution_count": 1,
   "metadata": {},
   "outputs": [],
   "source": [
    "import netCDF4\n",
    "import pandas as pd\n",
    "import numpy as np\n",
    "import cartopy.crs as ccrs\n",
    "import cartopy.feature as cfeature\n",
    "from cartopy.mpl.gridliner import LONGITUDE_FORMATTER, LATITUDE_FORMATTER\n",
    "import matplotlib.pyplot as plt\n",
    "import datetime"
   ]
  },
  {
   "cell_type": "markdown",
   "metadata": {},
   "source": [
    "## Looking at discharge in the SoS\n",
    "\n",
    "It can be helpful to plot the flow law parameter estimation (FLPE) algorithm discharge alongside the integrator (MOI) discharge produced for that algorithm PLUS overlapping in situ gauge data. Note that not all rivers have gauge data associated with them. In this notebook we will look at the steps to plot SoS discharge values produced from running the Confluence workflow alongside in situ gauge data gathered and stored in the priors.\n",
    "\n",
    "## Granule structure (background)\n",
    "\n",
    "The SWORD of Science (SoS) is a community-driven dataset produced for and from the execution of the Confluence workflow in the cloud which enables quick data access and compute on SWOT data. Data granules contain two files, priors and results. The priors file contains prior information, such as in-situ gage data and model output that is used to generate the discharge products. The results file contains the resulting river discharge data products.\n",
    "\n",
    "The SoS is organized by continent following [SWOT River Database (SWORD)](https://www.swordexplorer.com/) structure and naming conventions. It is indexed on the same reach and node identifier dimensions found in SWORD. Time series data is stored by cycle and pass on an observation dimension.\n",
    "\n",
    "\n",
    "More information is available in the SWOT-Confluence Github repository:\n",
    "* [Documentation for priors](https://github.com/SWOT-Confluence/documentation/blob/main/documentation/confluence_data_description-priors.pdf)\n",
    "* [Documentation for results](https://github.com/SWOT-Confluence/documentation/blob/main/documentation/confluence_data_description-results.pdf)\n",
    "\n",
    "\n",
    "\n",
    "Results are organized into groups corresponding to modules in the SWOT-Confluence processing software. Modules are described in the [Confluence Module Documentation](https://github.com/SWOT-Confluence/documentation/blob/main/documentation/confluence_module_documentation_v1.0.pdf).\n",
    "\n",
    "You can explore the SoS further in this notebook: Link TBD.\n",
    "\n",
    "## Locate data for a river that has gauges\n",
    "\n",
    "We will select the Ohio River as we know it has gauge data associated with it from the USGS. We first need to get the indexes of reaches in the Ohio River."
   ]
  },
  {
   "cell_type": "markdown",
   "metadata": {},
   "source": [
    "## Table of Gauge Agencies by Continent\n",
    "\n",
    "The following list the continent with associated gauge agency and group name of the gauge agency as it is stored in the SoS.\n",
    "\n",
    "| Continent     | Group Name | Gauge Agency                                          |\n",
    "|---------------|-----------|-------------------------------------------------------|\n",
    "| Africa        | GRDC       | Global Runoff Data Centre                             |\n",
    "| Asia          | GRDC       | Global Runoff Data Centre                             |\n",
    "| Asia          | MLIT       | Ministry of Land, Infrastructure, Transport, Tourism  |\n",
    "| Europe        | GRDC       | Global Runoff Data Centre                             |\n",
    "| Europe        | DEFRA      | Department of Environment Food & Rural Affairs        |\n",
    "| Europe        | EAU        | Hub'Eau France                                        |\n",
    "| North America | GRDC       | Global Runoff Data Centre                             |\n",
    "| North America | USGS       | United State Geological Survey                        |\n",
    "| North America | WSC        | Water Survey Canada                                   |\n",
    "| Oceania       | GRDC       | Global Runoff Data Centre                             |\n",
    "| Oceania       | ABOM       | Australian Government Bureau of Meteorology           |\n",
    "| South America | GRDC       | Global Runoff Data Centre                             |\n",
    "| South America | DGA        | Direccion General de Aguas                            |\n",
    "| South America | Hidroweb   | Hidroweb                                              |"
   ]
  },
  {
   "cell_type": "code",
   "execution_count": 2,
   "metadata": {},
   "outputs": [],
   "source": [
    "# Constants\n",
    "\n",
    "# Select a river\n",
    "RIVER_NAME = \"Ohio River\"\n",
    "\n",
    "# Select a discharge algorithm (hivdi, neobam, metroman, momma, sad, sic4dvar)\n",
    "DISCHARGE_ALGORITHM = \"hivdi\"\n",
    "DISCHARGE_VARIABLE = \"Q\"\n",
    "\n",
    "# Select a gauge agency\n",
    "GAUGE_AGENCY = \"USGS\""
   ]
  },
  {
   "cell_type": "code",
   "execution_count": 3,
   "metadata": {},
   "outputs": [],
   "source": [
    "# SoS NetCDF Files\n",
    "\n",
    "# Open the priors file:\n",
    "priors = netCDF4.Dataset(\"/path/to/na_sword_v16_SOS_priors.nc\", format=\"NETCDF4\")\n",
    "\n",
    "# Open the results file\n",
    "results = netCDF4.Dataset(\"/path/to/na_sword_v16_SOS_results.nc\", format=\"NETCDF4\")"
   ]
  },
  {
   "cell_type": "code",
   "execution_count": 4,
   "metadata": {},
   "outputs": [
    {
     "name": "stdout",
     "output_type": "stream",
     "text": [
      "Ohio River reach identifiers:\n",
      "[74261000021 74261000034 74261000041 74261000051 74261000061 74261000074\n",
      " 74261000081 74264100011 74265000021 74265000034 74265000041 74265000051\n",
      " 74265000061 74265000071 74265000081 74265000091 74265000101 74265000111\n",
      " 74265000121 74267100024 74267100031 74267100041 74267100051 74267100061\n",
      " 74267100071 74267100081 74267100091 74267200011 74267300024 74267300031\n",
      " 74267300041 74267300051 74267300061 74267300071 74267300081 74267300091\n",
      " 74267300104 74267300111 74267300121 74267300131 74267300151 74267300161\n",
      " 74267300171 74267300181 74267300191 74267300201 74267300211 74267300221\n",
      " 74267300231 74267300244 74267300251 74267300261 74267300271 74267300281\n",
      " 74267300291 74267300301 74267300311 74267300321 74267300331 74267300341\n",
      " 74267300364 74267300374 74267300384 74267300394 74267400011 74267500011\n",
      " 74267500021 74267500034 74267500041 74267500051 74267500061 74267500071\n",
      " 74267500081 74267700021 74267700031 74267700041 74267700051 74267700201\n",
      " 74267700211 74267700221 74267700231 74267700241 74267700251 74267700261\n",
      " 74267700274 74267700281 74267700291 74267700301 74267700311 74267700321\n",
      " 74267900021 74267900031 74267900071 74267900081 74267900091 74267900101\n",
      " 74267900114 74267900121 74267900131 74267900144 74267900151 74267900161\n",
      " 74269100021 74269100031 74269100041 74269100054 74269100061 74269100071\n",
      " 74269100081 74269100094 74269100101 74269100111 74269300011 74269300021\n",
      " 74269400011 74269500011 74269500021 74269500031 74269500041 74269500051\n",
      " 74269500061 74269500074 74269500081 74269500091 74269500101 74269500111\n",
      " 74269500124 74269500131 74269500141 74269500151 74269500161 74269500174\n",
      " 74269500181 74269500194 74269500201 74269500211 74269500221 74269500231\n",
      " 74269600011 74269700011 74269700024 74269700031 74269700041]\n",
      "Gauge reach identifiers:\n",
      "[73282400081 73282100081 73282300331 ... 74298200361 74294900381\n",
      " 74294700251]\n",
      "Overlapping reaches:\n",
      "[74261000041 74265000021 74265000121 74267300111 74267300181 74267300191\n",
      " 74267500041 74269500051 74269700031]\n",
      "Reach id selected: 74261000041\n"
     ]
    }
   ],
   "source": [
    "# Locate overlapping reach identifier\n",
    "river_names = results['reaches']['river_name'][:]\n",
    "river_indexes = np.where(river_names  == RIVER_NAME)\n",
    "\n",
    "river_reach = results[\"reaches\"][\"reach_id\"][river_indexes]\n",
    "print(f\"{RIVER_NAME} reach identifiers:\")\n",
    "print(river_reach)\n",
    "\n",
    "gauge_reach = priors[GAUGE_AGENCY][f\"{GAUGE_AGENCY}_reach_id\"][:]\n",
    "print(\"Gauge reach identifiers:\")\n",
    "print(gauge_reach)\n",
    "\n",
    "reach_overlap = np.intersect1d(gauge_reach, river_reach)\n",
    "print(\"Overlapping reaches:\")\n",
    "print(reach_overlap)\n",
    "\n",
    "# Select the first reach\n",
    "reach_id = reach_overlap[0]\n",
    "print(f\"Reach id selected: {reach_id}\")"
   ]
  },
  {
   "cell_type": "markdown",
   "metadata": {},
   "source": [
    "## Locate gauge discharge and in situ observation time\n",
    "\n",
    "Locate discharge and save the in situ observation time for the reach of interest."
   ]
  },
  {
   "cell_type": "code",
   "execution_count": 5,
   "metadata": {},
   "outputs": [
    {
     "name": "stdout",
     "output_type": "stream",
     "text": [
      "Number of gauge discharge values: 4047.\n",
      "Number of gauge time values: 4047.\n"
     ]
    }
   ],
   "source": [
    "# Get reach index for gauge data\n",
    "reach_gauge_index = np.where(gauge_reach == reach_id)\n",
    "\n",
    "# Get discharge and filter out missing values\n",
    "missing = priors[GAUGE_AGENCY][f\"{GAUGE_AGENCY}_q\"]._FillValue\n",
    "gauge_discharge = priors[GAUGE_AGENCY][f\"{GAUGE_AGENCY}_q\"][reach_gauge_index].filled()[0]\n",
    "nonmissing_indexes_g = np.where(gauge_discharge != missing)\n",
    "gauge_discharge = gauge_discharge[nonmissing_indexes_g]\n",
    "print(f\"Number of gauge discharge values: {len(gauge_discharge)}.\")\n",
    "\n",
    "# Get time and filter out missing values\n",
    "gauge_time = priors[GAUGE_AGENCY][f\"{GAUGE_AGENCY}_qt\"][reach_gauge_index].filled().astype(int)[0]\n",
    "gauge_time = gauge_time[nonmissing_indexes_g]\n",
    "print(f\"Number of gauge time values: {len(gauge_time)}.\")\n",
    "\n",
    "# Convert time from ordinal value\n",
    "gauge_time = [ datetime.datetime.fromordinal(gt).strftime(\"%Y%m%d\") for gt in gauge_time ]\n",
    "# print(gauge_time)"
   ]
  },
  {
   "cell_type": "markdown",
   "metadata": {},
   "source": [
    "## Locate algorithm discharge\n",
    "\n",
    "Locate the algorithm discharge for a corresponding reach identifier that has gauge data. We will use HiVDI for this demonstration."
   ]
  },
  {
   "cell_type": "code",
   "execution_count": 6,
   "metadata": {},
   "outputs": [
    {
     "name": "stdout",
     "output_type": "stream",
     "text": [
      "Reach Index:  (array([14957]),)\n",
      "Number of HIVDI discharge values: 3.\n",
      "[10035.04978182 14434.47782865 10419.93639   ]\n",
      "Number of HIVDI time values: 3.\n",
      "['20240303', '20240304', '20240414']\n"
     ]
    }
   ],
   "source": [
    "# Locate the reach identifier and associated discharge time series\n",
    "reach_q_index = np.where(results['reaches']['reach_id'][:] == reach_id)\n",
    "print(\"Reach Index: \", reach_q_index)\n",
    "discharge_q = results[DISCHARGE_ALGORITHM][DISCHARGE_VARIABLE][reach_q_index][0]\n",
    "\n",
    "# Filter out missing values\n",
    "missing = results[DISCHARGE_ALGORITHM][DISCHARGE_VARIABLE].missing_value\n",
    "nonmissing_indexes = np.where(discharge_q != missing)\n",
    "discharge_q = discharge_q[nonmissing_indexes]\n",
    "print(f\"Number of {DISCHARGE_ALGORITHM.upper()} discharge values: {len(discharge_q)}.\")\n",
    "print(discharge_q)\n",
    "\n",
    "# Retrieve SWOT observation times and filter out missing values\n",
    "time = results['reaches']['time'][reach_q_index][0]\n",
    "time = time[nonmissing_indexes]\n",
    "\n",
    "# Convert to discharge time to same format as gauge agency time\n",
    "swot_ts = datetime.datetime(2000,1,1,0,0,0)   # SWOT timestamp delta\n",
    "discharge_time = [ (swot_ts + datetime.timedelta(seconds=st)).strftime(\"%Y%m%d\") for st in time ]\n",
    "print(f\"Number of {DISCHARGE_ALGORITHM.upper()} time values: {len(time)}.\")\n",
    "print(discharge_time)"
   ]
  },
  {
   "cell_type": "markdown",
   "metadata": {},
   "source": [
    "## Locate integrator (MOI) discharge\n",
    "\n",
    "Locate the integrator discharge produced for the algorithm for the reach of interest that has gauge data. As mentioned, we will use HiVDI for this demonstration. "
   ]
  },
  {
   "cell_type": "code",
   "execution_count": 7,
   "metadata": {},
   "outputs": [
    {
     "name": "stdout",
     "output_type": "stream",
     "text": [
      "Number of integrator HIVDI discharge values: 3.\n",
      "[5547.78523649           nan           nan]\n"
     ]
    }
   ],
   "source": [
    "# Locate MOI discharge results for discharge algorithm making sure to filter out missing values\n",
    "moi_q = results[\"moi\"][DISCHARGE_ALGORITHM][\"q\"][reach_q_index][0]\n",
    "moi_q = moi_q[nonmissing_indexes]\n",
    "\n",
    "# Set missing MOI to NaN\n",
    "missing_moi = results[\"moi\"][DISCHARGE_ALGORITHM][\"q\"].missing_value\n",
    "moi_q[moi_q == missing_moi] = np.nan\n",
    "print(f\"Number of integrator {DISCHARGE_ALGORITHM.upper()} discharge values: {len(moi_q)}.\")\n",
    "print(moi_q)"
   ]
  },
  {
   "cell_type": "markdown",
   "metadata": {},
   "source": [
    "## Locate overlapping observations\n",
    "\n",
    "We will need to locate the discharge time series (FLPE and MOI) for the Rhine reach of interest and then determine if there are overlapping in situ observations with SWOT observations."
   ]
  },
  {
   "cell_type": "code",
   "execution_count": 8,
   "metadata": {},
   "outputs": [
    {
     "name": "stdout",
     "output_type": "stream",
     "text": [
      "Days of observation overlap:\n",
      "['20240303', '20240304', '20240414']\n",
      "Gauge discharge:\n",
      " [ 9854.2464 10788.7008 18802.3552]\n",
      "hivdi discharge:\n",
      " [10035.04978182 14434.47782865 10419.93639   ]\n",
      "MOI discharge for hivdi:\n",
      " [5547.78523649           nan           nan]\n"
     ]
    }
   ],
   "source": [
    "# Find overlapping time between in situ and SWOT observations\n",
    "obs_overlap = list(set(discharge_time).intersection(set(gauge_time)))\n",
    "obs_overlap.sort()\n",
    "print(\"Days of observation overlap:\")\n",
    "print(obs_overlap)\n",
    "\n",
    "# Get indexes of overlap for gauge, algorithm and integrator\n",
    "gauge_overlap_index = np.where(np.in1d(gauge_time, obs_overlap))[0]\n",
    "discharge_overlap_index = np.where(np.in1d(discharge_time, obs_overlap))[0]\n",
    "\n",
    "# Retrieve time and discharge values for indexes\n",
    "gauge_time = np.array(gauge_time)[gauge_overlap_index]\n",
    "gauge_discharge = np.array(gauge_discharge)[gauge_overlap_index]\n",
    "# print(\"Gauge time:\\n\", gauge_time)\n",
    "print(\"Gauge discharge:\\n\", gauge_discharge)\n",
    "\n",
    "discharge_time = np.array(discharge_time)[discharge_overlap_index]\n",
    "discharge_algo = np.array(discharge_q)[discharge_overlap_index]\n",
    "# print(f\"{DISCHARGE_ALGORITHM} time:\\n\", discharge_time)\n",
    "print(f\"{DISCHARGE_ALGORITHM} discharge:\\n\", discharge_algo)\n",
    "\n",
    "moi_q = np.array(moi_q)[discharge_overlap_index]\n",
    "print(f\"MOI discharge for {DISCHARGE_ALGORITHM}:\\n\", moi_q)"
   ]
  },
  {
   "cell_type": "markdown",
   "metadata": {},
   "source": [
    "# Plotting results for comparison\n",
    "\n",
    "Let's plot all discharge time series to better visualize the differences and compare the FLPE, MOI, and gauge discharge values. "
   ]
  },
  {
   "cell_type": "code",
   "execution_count": 9,
   "metadata": {},
   "outputs": [
    {
     "data": {
      "text/plain": [
       "<matplotlib.legend.Legend at 0x162552ab0>"
      ]
     },
     "execution_count": 9,
     "metadata": {},
     "output_type": "execute_result"
    },
    {
     "data": {
      "image/png": "[encoded data removed]",
      "text/plain": [
       "<Figure size 640x480 with 1 Axes>"
      ]
     },
     "metadata": {},
     "output_type": "display_data"
    }
   ],
   "source": [
    "# Plot discharge alongside MOI discharge and gauge discharge\n",
    "\n",
    "# Discharge algorithm Q\n",
    "plt.scatter(discharge_time, discharge_algo)\n",
    "plt.plot(discharge_time, discharge_algo, label=f\"{DISCHARGE_ALGORITHM.upper()}\")\n",
    "\n",
    "# MOI Q\n",
    "plt.scatter(discharge_time, moi_q)\n",
    "plt.plot(discharge_time, moi_q, label=\"MOI\")\n",
    "\n",
    "# Gauge Q\n",
    "plt.scatter(gauge_time, gauge_discharge)\n",
    "plt.plot(gauge_time, gauge_discharge, label=\"Gauge\")\n",
    "\n",
    "plt.suptitle(f\"Discharge Timeseries from {DISCHARGE_ALGORITHM} for the {RIVER_NAME} reach identifier: {reach_id}.\")\n",
    "plt.legend()\n",
    "# plt.tight_layout()\n"
   ]
  },
  {
   "cell_type": "code",
   "execution_count": null,
   "metadata": {},
   "outputs": [],
   "source": []
  }
 ],
 "metadata": {
  "kernelspec": {
   "display_name": "Python 3 (ipykernel)",
   "language": "python",
   "name": "python3"
  },
  "language_info": {
   "codemirror_mode": {
    "name": "ipython",
    "version": 3
   },
   "file_extension": ".py",
   "mimetype": "text/x-python",
   "name": "python",
   "nbconvert_exporter": "python",
   "pygments_lexer": "ipython3",
   "version": "3.12.3"
  }
 },
 "nbformat": 4,
 "nbformat_minor": 4
}
