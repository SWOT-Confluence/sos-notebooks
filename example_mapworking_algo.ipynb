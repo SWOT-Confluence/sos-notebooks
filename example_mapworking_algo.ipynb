{
 "cells": [
  {
   "cell_type": "markdown",
   "id": "afedb81f-0362-4838-8452-ac2cd9de74a0",
   "metadata": {},
   "source": [
    "# Plot maps where discharge algorithms work\n",
    "\n",
    "Confluence summit at U Mass, April 2024"
   ]
  },
  {
   "cell_type": "markdown",
   "id": "11407130-b1aa-49d0-837b-34bd52f5df9f",
   "metadata": {},
   "source": [
    "## Set up Libraries and Directories"
   ]
  },
  {
   "cell_type": "code",
   "execution_count": null,
   "id": "c2d2ce2d-9e87-413a-8ba7-6b778bdbb127",
   "metadata": {},
   "outputs": [],
   "source": [
    "import os,sys\n",
    "import netCDF4\n",
    "from pathlib import Path\n",
    "import numpy as np\n",
    "import json\n",
    "import matplotlib.pyplot as plt\n",
    "import pandas as pd"
   ]
  },
  {
   "cell_type": "code",
   "execution_count": null,
   "id": "82bae308-0225-4d82-954f-6105361f3a5f",
   "metadata": {},
   "outputs": [],
   "source": [
    "# set up SWOT DAWG viz\n",
    "sys.path.append('/nas/cee-water/cjgleason/stevec/SWOTdawgDISTRO/notebooks/Umass')\n",
    "from swotdawgviz.swotdawgviz import io as sdvio\n",
    "from swotdawgviz.swotdawgviz import maps as sdvm"
   ]
  },
  {
   "cell_type": "code",
   "execution_count": null,
   "id": "f89dd878-04ed-4391-b776-d0ec43fc515e",
   "metadata": {},
   "outputs": [],
   "source": [
    "os.getcwd()"
   ]
  },
  {
   "cell_type": "code",
   "execution_count": null,
   "id": "3c0ebde3-1bbf-4ccc-8bb3-0f4b0e265efa",
   "metadata": {},
   "outputs": [],
   "source": [
    "# set up directories\n",
    "DataDir=Path('.')"
   ]
  },
  {
   "cell_type": "markdown",
   "id": "6e3d8381-c163-466e-be56-86d15c0ed7f1",
   "metadata": {},
   "source": [
    "## Open files"
   ]
  },
  {
   "cell_type": "code",
   "execution_count": null,
   "id": "c666b73c-c048-46d7-be18-a2e22f8ae3d7",
   "metadata": {},
   "outputs": [],
   "source": [
    "results = netCDF4.Dataset(\"/nas/cee-water/cjgleason/SWOT_Q_UMASS/na_sword_v16_SOS_results_EOD_day1.nc\", format=\"NETCDF4\")\n",
    "\n",
    "print(\"Results Group\")\n",
    "print(results, \"\\n\")\n"
   ]
  },
  {
   "cell_type": "markdown",
   "id": "8da5f037-d56e-4ba8-9796-280ed92cace4",
   "metadata": {},
   "source": [
    "## Parse Ohio basin in SoS\n",
    "\n",
    "The Ohio is L4=7426"
   ]
  },
  {
   "cell_type": "code",
   "execution_count": null,
   "id": "867b2886-0a62-4cbb-babc-19fffd5ae0f8",
   "metadata": {},
   "outputs": [],
   "source": [
    "reaches = results.groups['reaches']\n",
    "print(\"Reaches Group\")\n",
    "print(reaches, \"\\n\")\n",
    "\n",
    "reachids=reaches['reach_id'][:]\n",
    "\n",
    "reachid_strs=[]\n",
    "\n",
    "reachids_oh=[]\n",
    "reachids_int_oh=[]\n",
    "\n",
    "for reachid in reachids:\n",
    "    if str(reachid)[0:4]=='7426':\n",
    "        reachids_oh.append(str(reachid))\n",
    "        reachids_int_oh.append(int(reachid))"
   ]
  },
  {
   "cell_type": "code",
   "execution_count": null,
   "id": "0107c9f6-ada5-4a93-87c1-a8fa0bb99554",
   "metadata": {},
   "outputs": [],
   "source": [
    "reachids"
   ]
  },
  {
   "cell_type": "markdown",
   "id": "b4312a93-8a78-4048-9cdd-e6abe493d5ba",
   "metadata": {},
   "source": [
    "## Explore integrator data stored in SoS"
   ]
  },
  {
   "cell_type": "code",
   "execution_count": null,
   "id": "b2b357aa-c35b-4fad-a848-7f46da5bc15c",
   "metadata": {},
   "outputs": [],
   "source": [
    "moi = results.groups['moi']\n",
    "print(\"MOI Group\")\n",
    "print(moi, \"\\n\")"
   ]
  },
  {
   "cell_type": "code",
   "execution_count": null,
   "id": "ab2a052e-d81d-4314-b722-ceb1b4247edf",
   "metadata": {},
   "outputs": [],
   "source": [
    "print(\"HiVDI in MOI\")\n",
    "print(moi['hivdi'], \"\\n\")"
   ]
  },
  {
   "cell_type": "code",
   "execution_count": null,
   "id": "2997c339-cd12-4132-96b0-52cc2e303c04",
   "metadata": {},
   "outputs": [],
   "source": [
    "print(\"Basin scale discharge from HiVDI in MOI\")\n",
    "print(moi['hivdi']['qbar_basinScale'], \"\\n\")"
   ]
  },
  {
   "cell_type": "code",
   "execution_count": null,
   "id": "f8ead470-fe6a-4684-af82-6d3d0e1b95c1",
   "metadata": {},
   "outputs": [],
   "source": [
    "moi['hivdi']['qbar_basinScale'][14954].data"
   ]
  },
  {
   "cell_type": "markdown",
   "id": "4c18be61-aa0d-4ed7-8163-175bb0f9ae54",
   "metadata": {},
   "source": [
    "## Initialize SWOT DAWG Viz map"
   ]
  },
  {
   "cell_type": "code",
   "execution_count": null,
   "id": "d9a4ca0a-ac2f-4403-9b2c-45076eefc010",
   "metadata": {},
   "outputs": [],
   "source": [
    "import geopandas as gpd\n",
    "\n",
    "rch = gpd.read_file(\"/nas/cee-water/cjgleason/miked/umass_workshop/sword_shp/na_sword_reaches_hb74_v16.shp\")\n",
    "rch.plot()\n",
    "print(len(rch))"
   ]
  },
  {
   "cell_type": "code",
   "execution_count": null,
   "id": "49fba4dc-c73c-414c-8700-11ead7cf0cf8",
   "metadata": {},
   "outputs": [],
   "source": [
    "rch[rch.reach_id.isin(reachids.data)].plot()"
   ]
  },
  {
   "cell_type": "code",
   "execution_count": null,
   "id": "4395d2ff-4f2d-4c98-88e8-eb19ae2c1890",
   "metadata": {},
   "outputs": [],
   "source": [
    "# Open the priors file:\n",
    "priors = netCDF4.Dataset(\"/nas/cee-water/cjgleason/SWOT_Q_UMASS/na_sword_v16_SOS_priors.nc\", format=\"NETCDF4\")\n",
    "\n",
    "gauge_reach = priors[\"USGS\"][\"USGS_reach_id\"][:]\n",
    "print(\"Gauge reach identifiers:\")\n",
    "print(gauge_reach)\n",
    "\n",
    "reach_overlap = np.intersect1d(gauge_reach, reachids.data)\n",
    "print(\"Overlapping reaches:\")\n",
    "print(reach_overlap)\n",
    "reach_overlap"
   ]
  },
  {
   "cell_type": "code",
   "execution_count": null,
   "id": "5fc06b1a-2843-4bd2-aa41-25603cc13f00",
   "metadata": {},
   "outputs": [],
   "source": [
    "len(reach_overlap)"
   ]
  },
  {
   "cell_type": "code",
   "execution_count": null,
   "id": "7fc82337-eba0-4029-8c91-195e743d0b1f",
   "metadata": {},
   "outputs": [],
   "source": [
    "gauged_reaches = rch[rch.reach_id.isin(reach_overlap)]\n",
    "print(len(gauged_reaches))\n",
    "gauged_reaches.plot()"
   ]
  },
  {
   "cell_type": "code",
   "execution_count": null,
   "id": "927d26a8-ca40-4f02-8d1d-dd9cf26da98d",
   "metadata": {},
   "outputs": [],
   "source": [
    "gauged_reaches\n",
    "\n",
    "results#[\"hivdi\"][\"Q\"]"
   ]
  },
  {
   "cell_type": "code",
   "execution_count": null,
   "id": "353501f8-a2b1-4359-a1f2-c34a89eb84eb",
   "metadata": {},
   "outputs": [],
   "source": []
  },
  {
   "cell_type": "code",
   "execution_count": null,
   "id": "23c16b00-0b77-4582-b7ee-b63ef4640d85",
   "metadata": {},
   "outputs": [],
   "source": [
    "# create swotdawgviz map with just the reaches in RL mapped\n",
    "sword_hb_reaches = sdvio.SwordShapefile(\"/nas/cee-water/cjgleason/miked/umass_workshop/sword_shp/na_sword_reaches_hb74_v16.shp\",reachids_int_oh)\n",
    "rmap = sdvm.ReachesMap(sword_hb_reaches.dataset)\n",
    "ridmap = rmap.get_centerlines_map()\n",
    "ridmap"
   ]
  },
  {
   "cell_type": "markdown",
   "id": "bb0cee05-d9ec-45f5-855e-4655dc5a8230",
   "metadata": {},
   "source": [
    "## Map by algorithm"
   ]
  },
  {
   "cell_type": "code",
   "execution_count": null,
   "id": "a23a768e-897a-47f1-8b9e-4939c3706a69",
   "metadata": {},
   "outputs": [],
   "source": [
    "#hidvi\n",
    "Qbar_hi=dict()\n",
    "for reachid in reachids_oh:    \n",
    "    idx = np.where(results['reaches']['reach_id'][:] == np.int64(reachid) )\n",
    "    data = np.ma.getdata(results[\"hivdi\"][\"Q\"][idx])[0]\n",
    "    if data.max() > 0:\n",
    "        Qbar_hi[reachid] = 1\n",
    "    else:\n",
    "        Qbar_hi[reachid] = 0\n",
    "        \n",
    "#momma\n",
    "Qbar_momma=dict()\n",
    "for reachid in reachids_oh:    \n",
    "    idx = np.where(results['reaches']['reach_id'][:] == np.int64(reachid) )\n",
    "    data = np.ma.getdata(results[\"momma\"][\"Q\"][idx])[0]\n",
    "    if data.max() > 0:\n",
    "        Qbar_momma[reachid] = 1\n",
    "    else:\n",
    "        Qbar_momma[reachid] = 0\n",
    "        \n",
    "#sad\n",
    "Qbar_sad=dict()\n",
    "for reachid in reachids_oh:    \n",
    "    idx = np.where(results['reaches']['reach_id'][:] == np.int64(reachid) )\n",
    "    data = np.ma.getdata(results[\"sad\"][\"Qa\"][idx])[0]\n",
    "    if data.max() > 0:\n",
    "        Qbar_sad[reachid] = 1\n",
    "    else:\n",
    "        Qbar_sad[reachid] = 0\n",
    "        \n",
    "        \n",
    "#sic4dvar\n",
    "Qbar_sic=dict()\n",
    "for reachid in reachids_oh:    \n",
    "    idx = np.where(results['reaches']['reach_id'][:] == np.int64(reachid) )\n",
    "    data = np.ma.getdata(results[\"sic4dvar\"][\"Q_da\"][idx])[0]\n",
    "    #print(data)\n",
    "    if data.max() > 0:\n",
    "        Qbar_sic[reachid] = 1\n",
    "    else:\n",
    "        Qbar_sic[reachid] = 0"
   ]
  },
  {
   "cell_type": "code",
   "execution_count": null,
   "id": "9881f9c9-83ac-4ab9-973b-8c151f1ae925",
   "metadata": {},
   "outputs": [],
   "source": [
    "rmap._dataset['HiVDI']=-1.\n",
    "\n",
    "for reachid in reachids_oh:\n",
    "    if not np.isnan(Qbar_hi[str(reachid)]):\n",
    "        rmap._dataset.loc[rmap._dataset['reach_id'].astype(str)==str(reachid),['HiVDI']]=Qbar_hi[str(reachid)]\n",
    "    \n",
    "\n",
    "rmap._json_dataset = rmap._dataset.to_json()    \n",
    "hi_map = rmap.get_centerlines_map(varname=\"HiVDI\",varlimits=[0,1],cmap=['r','b'])\n",
    "hi_df = pd.Series(Qbar_hi)\n",
    "print(len(hi_df[hi_df>0]))\n",
    "hi_map"
   ]
  },
  {
   "cell_type": "code",
   "execution_count": null,
   "id": "3aa66259-84d7-4e41-9d0f-7aee5c8e0408",
   "metadata": {},
   "outputs": [],
   "source": [
    "# add integrated MetroMan discharge to the rmap object\n",
    "rmap._dataset['Momma']=-1.\n",
    "\n",
    "for reachid in reachids_oh:\n",
    "    if not np.isnan(Qbar_momma[str(reachid)]):\n",
    "        rmap._dataset.loc[rmap._dataset['reach_id'].astype(str)==str(reachid),['Momma']]=Qbar_momma[str(reachid)]\n",
    "rmap._json_dataset = rmap._dataset.to_json()\n",
    "momma_map = rmap.get_centerlines_map(varname=\"Momma\",varlimits=[0,1],cmap=['r','b'])\n",
    "momma_df = pd.Series(Qbar_momma)\n",
    "print(len(momma_df[momma_df>0]))\n",
    "momma_map"
   ]
  },
  {
   "cell_type": "code",
   "execution_count": null,
   "id": "7178759b-9c23-40e5-a070-d144e6a838e6",
   "metadata": {},
   "outputs": [],
   "source": [
    "rmap._dataset['Sad']=-1.\n",
    "\n",
    "for reachid in reachids_oh:\n",
    "    if not np.isnan(Qbar_sad[str(reachid)]):\n",
    "        rmap._dataset.loc[rmap._dataset['reach_id'].astype(str)==str(reachid),['Sad']]=Qbar_sad[str(reachid)]\n",
    "rmap._json_dataset = rmap._dataset.to_json()\n",
    "sad_map = rmap.get_centerlines_map(varname=\"Sad\",varlimits=[0,1],cmap=[\"r\", \"b\"])\n",
    "sad_df = pd.Series(Qbar_sad)\n",
    "print(len(sad_df[sad_df>0]))\n",
    "sad_map"
   ]
  },
  {
   "cell_type": "code",
   "execution_count": null,
   "id": "3dcf7ad9-1483-47e1-a18f-f656468eb1ca",
   "metadata": {},
   "outputs": [],
   "source": [
    "rmap._dataset['Sic']=-1.\n",
    "\n",
    "for reachid in reachids_oh:\n",
    "    if not np.isnan(Qbar_sic[str(reachid)]):\n",
    "        rmap._dataset.loc[rmap._dataset['reach_id'].astype(str)==str(reachid),['Sic']]=Qbar_sic[str(reachid)]\n",
    "rmap._json_dataset = rmap._dataset.to_json()\n",
    "sic_map = rmap.get_centerlines_map(varname=\"Sic\",varlimits=[0,1],cmap=[\"r\", \"b\"])\n",
    "sic_df = pd.Series(Qbar_sic)\n",
    "print(len(sic_df[sic_df>0]))\n",
    "sic_map"
   ]
  },
  {
   "cell_type": "code",
   "execution_count": null,
   "id": "31277e46-20ff-4adb-869c-6076402cf7a6",
   "metadata": {},
   "outputs": [],
   "source": [
    "#Map all algorithms\n",
    "\n",
    "Qbars,algo = {},{}\n",
    "for reachid in reachids_oh:    \n",
    "    idx = np.where(results['reaches']['reach_id'][:] == np.int64(reachid) )\n",
    "    counter = []\n",
    "    temp_algo = \"\"\n",
    "    if np.ma.getdata(results[\"hivdi\"][\"Q\"][idx])[0].max() > 0:\n",
    "        counter.append(1)\n",
    "        temp_algo = f\"hivdi\"\n",
    "    if np.ma.getdata(results[\"momma\"][\"Q\"][idx])[0].max() > 0:\n",
    "        counter.append(1)\n",
    "        temp_algo = f\"{temp_algo}, momma\"\n",
    "    if np.ma.getdata(results[\"sad\"][\"Qa\"][idx])[0].max() > 0:\n",
    "        counter.append(1)\n",
    "        temp_algo = f\"{temp_algo}, sad\"\n",
    "    if np.ma.getdata(results[\"sic4dvar\"][\"Q_da\"][idx])[0].max() > 0:\n",
    "        counter.append(1)\n",
    "        temp_algo = f\"{temp_algo}, sic4dvar\"\n",
    "        \n",
    "    Qbars[reachid] = sum(counter)\n",
    "    algo[reachid] = temp_algo\n"
   ]
  },
  {
   "cell_type": "code",
   "execution_count": null,
   "id": "aa58f539-b43e-4397-bbbb-2cd3f8a0d02e",
   "metadata": {},
   "outputs": [],
   "source": [
    "rmap._dataset['all']=-1.\n",
    "\n",
    "for reachid in reachids_oh:\n",
    "    if not np.isnan(Qbars[str(reachid)]):\n",
    "        rmap._dataset.loc[rmap._dataset['reach_id'].astype(str)==str(reachid),['all']]=Qbars[str(reachid)]\n",
    "    #if not algo[str(reachid)]:\n",
    "        rmap._dataset.loc[rmap._dataset['reach_id'].astype(str)==str(reachid),['algo']]=algo[str(reachid)]\n",
    "rmap._dataset['wse'] = np.round(rmap._dataset['wse'],2)\n",
    "rmap._json_dataset = rmap._dataset.to_json()\n",
    "all_map = rmap.get_centerlines_map(varname=\"all\",varlimits=[0,4],cmap=[\"red\",\"orange\", \"yellow\", \"green\", \"blue\"]\n",
    "                                   ,tooltip_attributes=['reach_id','all','algo','wse','width','river_name']) \n",
    "all_map"
   ]
  },
  {
   "cell_type": "code",
   "execution_count": null,
   "id": "88564bf8-bab4-450f-8839-221938b3d918",
   "metadata": {},
   "outputs": [],
   "source": []
  },
  {
   "cell_type": "markdown",
   "id": "8345bb87-e5a4-42ff-9670-bbc88c26b2fc",
   "metadata": {},
   "source": [
    "## Close output file"
   ]
  },
  {
   "cell_type": "code",
   "execution_count": null,
   "id": "76fe60dc-2ffc-4fd4-bfbf-b0feac2249ba",
   "metadata": {},
   "outputs": [],
   "source": [
    "results.close()"
   ]
  },
  {
   "cell_type": "code",
   "execution_count": null,
   "id": "fba7eedf-90da-42c9-913b-ea4371b0b0e6",
   "metadata": {},
   "outputs": [],
   "source": []
  }
 ],
 "metadata": {
  "kernelspec": {
   "display_name": "Python [conda env:.conda-vic]",
   "language": "python",
   "name": "conda-env-.conda-vic-py"
  },
  "language_info": {
   "codemirror_mode": {
    "name": "ipython",
    "version": 3
   },
   "file_extension": ".py",
   "mimetype": "text/x-python",
   "name": "python",
   "nbconvert_exporter": "python",
   "pygments_lexer": "ipython3",
   "version": "3.11.0"
  }
 },
 "nbformat": 4,
 "nbformat_minor": 5
}
